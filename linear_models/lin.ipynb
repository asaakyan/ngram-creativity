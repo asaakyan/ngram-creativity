{
 "cells": [
  {
   "cell_type": "code",
   "execution_count": 97,
   "id": "555a0bc7",
   "metadata": {
    "vscode": {
     "languageId": "r"
    }
   },
   "outputs": [],
   "source": [
    "library(lme4)\n",
    "library(lmerTest)\n",
    "library(ggeffects)\n",
    "library(ggplot2)\n",
    "library(dplyr)\n",
    "library(emmeans)\n",
    "library(car)\n",
    "library(ggrepel)\n",
    "library(texreg)\n",
    "library(MuMIn)"
   ]
  },
  {
   "cell_type": "markdown",
   "id": "145ca026",
   "metadata": {},
   "source": [
    "# Main study"
   ]
  },
  {
   "cell_type": "markdown",
   "id": "f14d9ce5",
   "metadata": {},
   "source": [
    "## load novelty data"
   ]
  },
  {
   "cell_type": "code",
   "execution_count": 98,
   "id": "02b7844d",
   "metadata": {
    "vscode": {
     "languageId": "r"
    }
   },
   "outputs": [
    {
     "data": {
      "text/plain": [
       "\n",
       "    0     1 \n",
       "15261   771 "
      ]
     },
     "metadata": {},
     "output_type": "display_data"
    },
    {
     "data": {
      "text/plain": [
       "\n",
       "    0     1 \n",
       "15292   740 "
      ]
     },
     "metadata": {},
     "output_type": "display_data"
    },
    {
     "data": {
      "text/html": [
       "<style>\n",
       ".list-inline {list-style: none; margin:0; padding: 0}\n",
       ".list-inline>li {display: inline-block}\n",
       ".list-inline>li:not(:last-child)::after {content: \"\\00b7\"; padding: 0 .5ex}\n",
       "</style>\n",
       "<ol class=list-inline><li>16031</li><li>14</li></ol>\n"
      ],
      "text/latex": [
       "\\begin{enumerate*}\n",
       "\\item 16031\n",
       "\\item 14\n",
       "\\end{enumerate*}\n"
      ],
      "text/markdown": [
       "1. 16031\n",
       "2. 14\n",
       "\n",
       "\n"
      ],
      "text/plain": [
       "[1] 16031    14"
      ]
     },
     "metadata": {},
     "output_type": "display_data"
    },
    {
     "data": {
      "text/html": [
       "0"
      ],
      "text/latex": [
       "0"
      ],
      "text/markdown": [
       "0"
      ],
      "text/plain": [
       "[1] 0"
      ]
     },
     "metadata": {},
     "output_type": "display_data"
    },
    {
     "data": {
      "text/plain": [
       "\n",
       "    0     1 \n",
       "15261   770 "
      ]
     },
     "metadata": {},
     "output_type": "display_data"
    },
    {
     "data": {
      "text/plain": [
       "\n",
       "human olmo1 olmo2 \n",
       " 7657  4384  3990 "
      ]
     },
     "metadata": {},
     "output_type": "display_data"
    },
    {
     "data": {
      "text/html": [
       "<table class=\"dataframe\">\n",
       "<caption>A data.frame: 3 × 14</caption>\n",
       "<thead>\n",
       "\t<tr><th></th><th scope=col>batch</th><th scope=col>gen_passage_id</th><th scope=col>seed_passage_id</th><th scope=col>novel</th><th scope=col>meaningful</th><th scope=col>pragmatic</th><th scope=col>annotator_id</th><th scope=col>gen_source</th><th scope=col>ppl</th><th scope=col>WQRM_score</th><th scope=col>ai_likelihood</th><th scope=col>annotator</th><th scope=col>ppl_log_std</th><th scope=col>creative</th></tr>\n",
       "\t<tr><th></th><th scope=col>&lt;int&gt;</th><th scope=col>&lt;chr&gt;</th><th scope=col>&lt;fct&gt;</th><th scope=col>&lt;dbl&gt;</th><th scope=col>&lt;dbl&gt;</th><th scope=col>&lt;dbl&gt;</th><th scope=col>&lt;dbl&gt;</th><th scope=col>&lt;fct&gt;</th><th scope=col>&lt;dbl&gt;</th><th scope=col>&lt;dbl&gt;</th><th scope=col>&lt;dbl&gt;</th><th scope=col>&lt;fct&gt;</th><th scope=col>&lt;dbl[,1]&gt;</th><th scope=col>&lt;dbl&gt;</th></tr>\n",
       "</thead>\n",
       "<tbody>\n",
       "\t<tr><th scope=row>1</th><td>1</td><td>16897_human</td><td>16897</td><td>0</td><td>1</td><td>1</td><td> 9</td><td>human</td><td>4529.581</td><td>8.509995</td><td>0.000136031</td><td>9 </td><td>0.195584</td><td>0</td></tr>\n",
       "\t<tr><th scope=row>2</th><td>1</td><td>16897_human</td><td>16897</td><td>0</td><td>1</td><td>1</td><td>21</td><td>human</td><td>4529.581</td><td>8.509995</td><td>0.000136031</td><td>21</td><td>0.195584</td><td>0</td></tr>\n",
       "\t<tr><th scope=row>3</th><td>1</td><td>16897_human</td><td>16897</td><td>0</td><td>1</td><td>1</td><td>20</td><td>human</td><td>4529.581</td><td>8.509995</td><td>0.000136031</td><td>20</td><td>0.195584</td><td>0</td></tr>\n",
       "</tbody>\n",
       "</table>\n"
      ],
      "text/latex": [
       "A data.frame: 3 × 14\n",
       "\\begin{tabular}{r|llllllllllllll}\n",
       "  & batch & gen\\_passage\\_id & seed\\_passage\\_id & novel & meaningful & pragmatic & annotator\\_id & gen\\_source & ppl & WQRM\\_score & ai\\_likelihood & annotator & ppl\\_log\\_std & creative\\\\\n",
       "  & <int> & <chr> & <fct> & <dbl> & <dbl> & <dbl> & <dbl> & <fct> & <dbl> & <dbl> & <dbl> & <fct> & <dbl{[},1{]}> & <dbl>\\\\\n",
       "\\hline\n",
       "\t1 & 1 & 16897\\_human & 16897 & 0 & 1 & 1 &  9 & human & 4529.581 & 8.509995 & 0.000136031 & 9  & 0.195584 & 0\\\\\n",
       "\t2 & 1 & 16897\\_human & 16897 & 0 & 1 & 1 & 21 & human & 4529.581 & 8.509995 & 0.000136031 & 21 & 0.195584 & 0\\\\\n",
       "\t3 & 1 & 16897\\_human & 16897 & 0 & 1 & 1 & 20 & human & 4529.581 & 8.509995 & 0.000136031 & 20 & 0.195584 & 0\\\\\n",
       "\\end{tabular}\n"
      ],
      "text/markdown": [
       "\n",
       "A data.frame: 3 × 14\n",
       "\n",
       "| <!--/--> | batch &lt;int&gt; | gen_passage_id &lt;chr&gt; | seed_passage_id &lt;fct&gt; | novel &lt;dbl&gt; | meaningful &lt;dbl&gt; | pragmatic &lt;dbl&gt; | annotator_id &lt;dbl&gt; | gen_source &lt;fct&gt; | ppl &lt;dbl&gt; | WQRM_score &lt;dbl&gt; | ai_likelihood &lt;dbl&gt; | annotator &lt;fct&gt; | ppl_log_std &lt;dbl[,1]&gt; | creative &lt;dbl&gt; |\n",
       "|---|---|---|---|---|---|---|---|---|---|---|---|---|---|---|\n",
       "| 1 | 1 | 16897_human | 16897 | 0 | 1 | 1 |  9 | human | 4529.581 | 8.509995 | 0.000136031 | 9  | 0.195584 | 0 |\n",
       "| 2 | 1 | 16897_human | 16897 | 0 | 1 | 1 | 21 | human | 4529.581 | 8.509995 | 0.000136031 | 21 | 0.195584 | 0 |\n",
       "| 3 | 1 | 16897_human | 16897 | 0 | 1 | 1 | 20 | human | 4529.581 | 8.509995 | 0.000136031 | 20 | 0.195584 | 0 |\n",
       "\n"
      ],
      "text/plain": [
       "  batch gen_passage_id seed_passage_id novel meaningful pragmatic annotator_id\n",
       "1 1     16897_human    16897           0     1          1          9          \n",
       "2 1     16897_human    16897           0     1          1         21          \n",
       "3 1     16897_human    16897           0     1          1         20          \n",
       "  gen_source ppl      WQRM_score ai_likelihood annotator ppl_log_std creative\n",
       "1 human      4529.581 8.509995   0.000136031   9         0.195584    0       \n",
       "2 human      4529.581 8.509995   0.000136031   21        0.195584    0       \n",
       "3 human      4529.581 8.509995   0.000136031   20        0.195584    0       "
      ]
     },
     "metadata": {},
     "output_type": "display_data"
    },
    {
     "data": {
      "image/png": "[encoded data removed]",
      "text/plain": [
       "plot without title"
      ]
     },
     "metadata": {
      "image/png": {
       "height": 240,
       "width": 360
      }
     },
     "output_type": "display_data"
    }
   ],
   "source": [
    "nov_data <- read.csv(\"../data/for_linear_models/prehlt_and_hlt.csv\")\n",
    "nov_data <- nov_data[nov_data$batch != 11, ]\n",
    "nov_data$seed_passage_id <- as.factor(nov_data$seed_passage_id)\n",
    "nov_data$annotator <- as.factor(nov_data$annotator_id)\n",
    "nov_data$gen_source <- as.factor(nov_data$gen_source)\n",
    "nov_data$gen_source <- relevel(nov_data$gen_source, ref = \"human\")\n",
    "nov_data$ppl_log_std <- scale(log(nov_data$ppl))\n",
    "\n",
    "table(nov_data$novel)\n",
    "# if pragmatic or meaningful is not na and is 0, set novel to 0 (ignore NA)\n",
    "nov_data$creative <- ifelse((!is.na(nov_data$pragmatic) & nov_data$pragmatic == 0) | \n",
    "                             (!is.na(nov_data$meaningful) & nov_data$meaningful == 0), 0, nov_data$novel)\n",
    "table(nov_data$creative)\n",
    "\n",
    "options(repr.plot.width = 6, repr.plot.height = 4)\n",
    "ggplot(nov_data, aes(x=gen_source, y=ppl_log_std)) +\n",
    "  geom_boxplot() +\n",
    "  theme_minimal() +\n",
    "  labs(title=\"Log Standardized PPL by Generation Source\",\n",
    "       x=\"Generation Source\",\n",
    "       y=\"Log Standardized PPL\") +\n",
    "  theme(axis.text.x = element_text(angle=45, hjust=1))\n",
    "\n",
    "# remove the outlier expression\n",
    "nov_data <- nov_data[nov_data$ppl_log_std < 4, ]\n",
    "dim(nov_data)\n",
    "# number of unique annotators\n",
    "length(unique(nov_data$expression))\n",
    "table(nov_data$novel)\n",
    "table(nov_data$gen_source)\n",
    "# first few rows\n",
    "head(nov_data, n=3)"
   ]
  },
  {
   "cell_type": "code",
   "execution_count": 99,
   "id": "5d314568",
   "metadata": {
    "vscode": {
     "languageId": "r"
    }
   },
   "outputs": [
    {
     "data": {
      "text/plain": [
       "   \n",
       "       0    1\n",
       "  0  639 6358\n",
       "  1   28  742"
      ]
     },
     "metadata": {},
     "output_type": "display_data"
    },
    {
     "data": {
      "text/plain": [
       "   \n",
       "       0    1\n",
       "  0  234 6763\n",
       "  1   18  752"
      ]
     },
     "metadata": {},
     "output_type": "display_data"
    },
    {
     "data": {
      "text/plain": [
       "   \n",
       "       0    1\n",
       "  0  667 6361\n",
       "  1    0  739"
      ]
     },
     "metadata": {},
     "output_type": "display_data"
    },
    {
     "data": {
      "text/plain": [
       "   \n",
       "       0    1\n",
       "  0  252 6776\n",
       "  1    0  739"
      ]
     },
     "metadata": {},
     "output_type": "display_data"
    }
   ],
   "source": [
    "table(nov_data$novel, nov_data$pragmatic)\n",
    "table(nov_data$novel, nov_data$meaningful)\n",
    "\n",
    "table(nov_data$creative, nov_data$pragmatic)\n",
    "table(nov_data$creative, nov_data$meaningful)"
   ]
  },
  {
   "cell_type": "markdown",
   "id": "a2609916",
   "metadata": {},
   "source": [
    "## novelty analysis"
   ]
  },
  {
   "cell_type": "code",
   "execution_count": 100,
   "id": "09766b57",
   "metadata": {
    "vscode": {
     "languageId": "r"
    }
   },
   "outputs": [
    {
     "data": {
      "text/plain": [
       "Generalized linear mixed model fit by maximum likelihood (Laplace\n",
       "  Approximation) [glmerMod]\n",
       " Family: binomial  ( logit )\n",
       "Formula: creative ~ ppl_log_std + (1 | gen_source) + (1 | annotator) +  \n",
       "    (1 | seed_passage_id)\n",
       "   Data: nov_data\n",
       "\n",
       "      AIC       BIC    logLik -2*log(L)  df.resid \n",
       "   5210.5    5248.9   -2600.2    5200.5     16026 \n",
       "\n",
       "Scaled residuals: \n",
       "    Min      1Q  Median      3Q     Max \n",
       "-1.2968 -0.2239 -0.1508 -0.1044 17.7461 \n",
       "\n",
       "Random effects:\n",
       " Groups          Name        Variance Std.Dev.\n",
       " seed_passage_id (Intercept) 0.37357  0.6112  \n",
       " annotator       (Intercept) 0.55453  0.7447  \n",
       " gen_source      (Intercept) 0.09295  0.3049  \n",
       "Number of obs: 16031, groups:  \n",
       "seed_passage_id, 50; annotator, 26; gen_source, 3\n",
       "\n",
       "Fixed effects:\n",
       "            Estimate Std. Error z value Pr(>|z|)    \n",
       "(Intercept) -3.68004    0.25206  -14.60   <2e-16 ***\n",
       "ppl_log_std  0.67536    0.04063   16.62   <2e-16 ***\n",
       "---\n",
       "Signif. codes:  0 ‘***’ 0.001 ‘**’ 0.01 ‘*’ 0.05 ‘.’ 0.1 ‘ ’ 1\n",
       "\n",
       "Correlation of Fixed Effects:\n",
       "            (Intr)\n",
       "ppl_log_std -0.096"
      ]
     },
     "metadata": {},
     "output_type": "display_data"
    },
    {
     "data": {
      "text/html": [
       "<style>\n",
       ".dl-inline {width: auto; margin:0; padding: 0}\n",
       ".dl-inline>dt, .dl-inline>dd {float: none; width: auto; display: inline-block}\n",
       ".dl-inline>dt::after {content: \":\\0020\"; padding-right: .5ex}\n",
       ".dl-inline>dt:not(:first-of-type) {padding-left: .5ex}\n",
       "</style><dl class=dl-inline><dt>(Intercept)</dt><dd>0.025222008932484</dd><dt>ppl_log_std</dt><dd>1.96473118083173</dd></dl>\n"
      ],
      "text/latex": [
       "\\begin{description*}\n",
       "\\item[(Intercept)] 0.025222008932484\n",
       "\\item[ppl\\textbackslash{}\\_log\\textbackslash{}\\_std] 1.96473118083173\n",
       "\\end{description*}\n"
      ],
      "text/markdown": [
       "(Intercept)\n",
       ":   0.025222008932484ppl_log_std\n",
       ":   1.96473118083173\n",
       "\n"
      ],
      "text/plain": [
       "(Intercept) ppl_log_std \n",
       " 0.02522201  1.96473118 "
      ]
     },
     "metadata": {},
     "output_type": "display_data"
    }
   ],
   "source": [
    "m_nov_ppl_g = glmer(creative ~ ppl_log_std \n",
    "                    + (1 | gen_source)\n",
    "                    + (1 | annotator) \n",
    "                    + (1 | seed_passage_id), \n",
    "               data = nov_data, family = binomial(link = \"logit\"))\n",
    "summary(m_nov_ppl_g)\n",
    "\n",
    "# get odds ratio\n",
    "exp(fixef(m_nov_ppl_g))"
   ]
  },
  {
   "cell_type": "code",
   "execution_count": 101,
   "id": "bcf7d8dd",
   "metadata": {
    "vscode": {
     "languageId": "r"
    }
   },
   "outputs": [
    {
     "name": "stderr",
     "output_type": "stream",
     "text": [
      "Warning message:\n",
      "“the null model is only correct if all the variables it uses are identical \n",
      "to those used in fitting the original model.”\n"
     ]
    },
    {
     "name": "stdout",
     "output_type": "stream",
     "text": [
      "                   R2m        R2c\n",
      "theoretical 0.09552894 0.30975404\n",
      "delta       0.01842459 0.05974202\n"
     ]
    }
   ],
   "source": [
    "print(r.squaredGLMM(m_nov_ppl_g))"
   ]
  },
  {
   "cell_type": "code",
   "execution_count": 102,
   "id": "82f17b78",
   "metadata": {
    "vscode": {
     "languageId": "r"
    }
   },
   "outputs": [
    {
     "name": "stderr",
     "output_type": "stream",
     "text": [
      "The table was written to the file 'latex/nov_ppl.tex'.\n",
      "\n",
      "\n"
     ]
    }
   ],
   "source": [
    "formula_name <- \"\\\\shortstack[l]{creative \\\\textasciitilde{} ppl\\\\_log\\\\_std + \\\\\\\\ \n",
    "(1 \\\\textbar{} gen\\\\_source) + (1 \\\\textbar{} annotator) + \\\\\\\\ \n",
    "(1 \\\\textbar{} seed\\\\_passage\\\\_id)}\"\n",
    "\n",
    "texreg(m_nov_ppl_g,\n",
    "       caption = \"Mixed-effects logistic regression predicting creativity from standardized PPL\",\n",
    "       custom.model.names = formula_name,\n",
    "       label = \"tab:glmer_ppl\",\n",
    "       float.pos = \"htbp\",\n",
    "       booktabs = TRUE,\n",
    "       single.row = TRUE,\n",
    "       ci.force = TRUE,     # include confidence intervals\n",
    "       ci.level = 0.95,\n",
    "       file = \"latex/nov_ppl.tex\")  # writes LaTeX table"
   ]
  },
  {
   "cell_type": "code",
   "execution_count": 103,
   "id": "a1e75d17",
   "metadata": {
    "vscode": {
     "languageId": "r"
    }
   },
   "outputs": [
    {
     "name": "stderr",
     "output_type": "stream",
     "text": [
      "Warning message in predict.merMod(m_nov_ppl_g, newdata, type = \"link\", re.form = NA, :\n",
      "“se.fit computation uses an approximation to estimate the sampling distribution of the parameters”\n"
     ]
    },
    {
     "data": {
      "image/png": "[encoded data removed]",
      "text/plain": [
       "plot without title"
      ]
     },
     "metadata": {
      "image/png": {
       "height": 300,
       "width": 300
      }
     },
     "output_type": "display_data"
    }
   ],
   "source": [
    "newdata <- data.frame(ppl_log_std = seq(\n",
    "  min(nov_data$ppl_log_std),\n",
    "  max(nov_data$ppl_log_std),\n",
    "  length.out = 100\n",
    "))\n",
    "\n",
    "# Get predictions on the link (logit) scale with standard errors\n",
    "pred_link <- predict(m_nov_ppl_g, newdata, type = \"link\", re.form = NA, se.fit = TRUE)\n",
    "\n",
    "# Compute 95% confidence intervals on the probability scale\n",
    "newdata$pred_prob <- plogis(pred_link$fit)\n",
    "newdata$lower <- plogis(pred_link$fit - 1.96 * pred_link$se.fit)\n",
    "newdata$upper <- plogis(pred_link$fit + 1.96 * pred_link$se.fit)\n",
    "\n",
    "options(repr.plot.width = 5, repr.plot.height = 5)\n",
    "ggplot() +\n",
    "  # Observed points (jittered)\n",
    "  geom_jitter(data = nov_data, aes(x = ppl_log_std, y = as.numeric(novel)), \n",
    "              height = 0.05, alpha = 0.2, color = \"gray\") +\n",
    "  # Predicted probability curve\n",
    "  geom_line(data = newdata, aes(x = ppl_log_std, y = pred_prob), \n",
    "            color = \"blue\", size = 1.2) +\n",
    "  # Shaded 95% confidence interval\n",
    "  geom_ribbon(data = newdata, aes(x = ppl_log_std, ymin = lower, ymax = upper), \n",
    "              fill = \"blue\", alpha = 0.2) +\n",
    "  labs(\n",
    "    x = \"Standardized log Perplexity (ppl_log_std)\",\n",
    "    y = \"Prob. of being rated as creative\",\n",
    "    # title = \"Effect of ppl_log_std on Predicted Novelty with 95% CI\"\n",
    "  ) +\n",
    "  theme_minimal(base_size = 14)\n",
    "# save plot\n",
    "ggsave(\"plots/novelty_vs_ppl_log_std.png\", width = 5, height = 5, dpi = 300, bg = \"white\")"
   ]
  },
  {
   "cell_type": "code",
   "execution_count": 104,
   "id": "0c2f326c",
   "metadata": {
    "vscode": {
     "languageId": "r"
    }
   },
   "outputs": [
    {
     "data": {
      "text/html": [
       "0.239512855209743"
      ],
      "text/latex": [
       "0.239512855209743"
      ],
      "text/markdown": [
       "0.239512855209743"
      ],
      "text/plain": [
       "[1] 0.2395129"
      ]
     },
     "metadata": {},
     "output_type": "display_data"
    },
    {
     "data": {
      "text/html": [
       "0.0717185385656292"
      ],
      "text/latex": [
       "0.0717185385656292"
      ],
      "text/markdown": [
       "0.0717185385656292"
      ],
      "text/plain": [
       "[1] 0.07171854"
      ]
     },
     "metadata": {},
     "output_type": "display_data"
    }
   ],
   "source": [
    "# show what % of novel expressions have low ppl\n",
    "mean_ppl <- mean(nov_data$ppl_log_std)\n",
    "low_ppl <- nov_data$ppl_log_std < mean_ppl\n",
    "\n",
    "# Only consider novel texts\n",
    "novel_texts <- nov_data$creative == 1\n",
    "\n",
    "# Fraction of novel texts that have low perplexity\n",
    "frac_novel_low <- mean(low_ppl[novel_texts])\n",
    "frac_novel_low\n",
    "\n",
    "\n",
    "q25 <- quantile(nov_data$ppl_log_std, 0.25)\n",
    "bottom_quartile <- nov_data$ppl_log_std < q25\n",
    "frac_novel_q25 <- mean(bottom_quartile[novel_texts] == 1)\n",
    "frac_novel_q25"
   ]
  },
  {
   "cell_type": "code",
   "execution_count": 105,
   "id": "333bd4ae",
   "metadata": {
    "vscode": {
     "languageId": "r"
    }
   },
   "outputs": [
    {
     "data": {
      "text/html": [
       "0.92858958068615"
      ],
      "text/latex": [
       "0.92858958068615"
      ],
      "text/markdown": [
       "0.92858958068615"
      ],
      "text/plain": [
       "[1] 0.9285896"
      ]
     },
     "metadata": {},
     "output_type": "display_data"
    },
    {
     "data": {
      "text/html": [
       "0.905142286570145"
      ],
      "text/latex": [
       "0.905142286570145"
      ],
      "text/markdown": [
       "0.905142286570145"
      ],
      "text/plain": [
       "[1] 0.9051423"
      ]
     },
     "metadata": {},
     "output_type": "display_data"
    }
   ],
   "source": [
    "# show what % of high ppl expresssions are not novel\n",
    "mean_ppl <- mean(nov_data$ppl_log_std)\n",
    "high_ppl <- nov_data$ppl_log_std > mean_ppl\n",
    "\n",
    "# Only consider high ppl texts\n",
    "high_ppl_texts <- high_ppl == 1\n",
    "\n",
    "# Fraction of high ppl texts that are not novel\n",
    "frac_high_not_novel <- mean(nov_data$creative[high_ppl_texts] == 0)\n",
    "frac_high_not_novel\n",
    "\n",
    "# show what % of high ppl expresssions are not novel\n",
    "q75 <- quantile(nov_data$ppl_log_std, 0.75)\n",
    "top_quartile <- nov_data$ppl_log_std > q75\n",
    "frac_novel_q75 <- mean(nov_data$novel[top_quartile] == 0)\n",
    "frac_novel_q75"
   ]
  },
  {
   "cell_type": "markdown",
   "id": "ad5b8be6",
   "metadata": {},
   "source": [
    "## load pragmatic data"
   ]
  },
  {
   "cell_type": "code",
   "execution_count": 156,
   "id": "4276fea9",
   "metadata": {
    "vscode": {
     "languageId": "r"
    }
   },
   "outputs": [
    {
     "data": {
      "text/html": [
       "<style>\n",
       ".list-inline {list-style: none; margin:0; padding: 0}\n",
       ".list-inline>li {display: inline-block}\n",
       ".list-inline>li:not(:last-child)::after {content: \"\\00b7\"; padding: 0 .5ex}\n",
       "</style>\n",
       "<ol class=list-inline><li>7768</li><li>11</li></ol>\n"
      ],
      "text/latex": [
       "\\begin{enumerate*}\n",
       "\\item 7768\n",
       "\\item 11\n",
       "\\end{enumerate*}\n"
      ],
      "text/markdown": [
       "1. 7768\n",
       "2. 11\n",
       "\n",
       "\n"
      ],
      "text/plain": [
       "[1] 7768   11"
      ]
     },
     "metadata": {},
     "output_type": "display_data"
    },
    {
     "data": {
      "text/html": [
       "<style>\n",
       ".list-inline {list-style: none; margin:0; padding: 0}\n",
       ".list-inline>li {display: inline-block}\n",
       ".list-inline>li:not(:last-child)::after {content: \"\\00b7\"; padding: 0 .5ex}\n",
       "</style>\n",
       "<ol class=list-inline><li>7516</li><li>13</li></ol>\n"
      ],
      "text/latex": [
       "\\begin{enumerate*}\n",
       "\\item 7516\n",
       "\\item 13\n",
       "\\end{enumerate*}\n"
      ],
      "text/markdown": [
       "1. 7516\n",
       "2. 13\n",
       "\n",
       "\n"
      ],
      "text/plain": [
       "[1] 7516   13"
      ]
     },
     "metadata": {},
     "output_type": "display_data"
    },
    {
     "data": {
      "text/html": [
       "0"
      ],
      "text/latex": [
       "0"
      ],
      "text/markdown": [
       "0"
      ],
      "text/plain": [
       "[1] 0"
      ]
     },
     "metadata": {},
     "output_type": "display_data"
    },
    {
     "data": {
      "text/plain": [
       "\n",
       "   0    1 \n",
       " 428 7088 "
      ]
     },
     "metadata": {},
     "output_type": "display_data"
    },
    {
     "data": {
      "text/plain": [
       "\n",
       "human olmo1 olmo2 \n",
       " 3527  1871  2118 "
      ]
     },
     "metadata": {},
     "output_type": "display_data"
    },
    {
     "data": {
      "text/html": [
       "<table class=\"dataframe\">\n",
       "<caption>A data.frame: 3 × 13</caption>\n",
       "<thead>\n",
       "\t<tr><th></th><th scope=col>batch</th><th scope=col>gen_passage_id</th><th scope=col>seed_passage_id</th><th scope=col>novel</th><th scope=col>meaningful</th><th scope=col>pragmatic</th><th scope=col>annotator_id</th><th scope=col>gen_source</th><th scope=col>ppl</th><th scope=col>WQRM_score</th><th scope=col>ai_likelihood</th><th scope=col>annotator</th><th scope=col>ppl_log_std</th></tr>\n",
       "\t<tr><th></th><th scope=col>&lt;int&gt;</th><th scope=col>&lt;chr&gt;</th><th scope=col>&lt;fct&gt;</th><th scope=col>&lt;dbl&gt;</th><th scope=col>&lt;dbl&gt;</th><th scope=col>&lt;dbl&gt;</th><th scope=col>&lt;dbl&gt;</th><th scope=col>&lt;fct&gt;</th><th scope=col>&lt;dbl&gt;</th><th scope=col>&lt;dbl&gt;</th><th scope=col>&lt;dbl&gt;</th><th scope=col>&lt;fct&gt;</th><th scope=col>&lt;dbl[,1]&gt;</th></tr>\n",
       "</thead>\n",
       "<tbody>\n",
       "\t<tr><th scope=row>1</th><td>1</td><td>16897_human</td><td>16897</td><td>0</td><td>1</td><td>1</td><td> 9</td><td>human</td><td>4529.581</td><td>8.509995</td><td>0.000136031</td><td>9 </td><td>-0.2396703</td></tr>\n",
       "\t<tr><th scope=row>2</th><td>1</td><td>16897_human</td><td>16897</td><td>0</td><td>1</td><td>1</td><td>21</td><td>human</td><td>4529.581</td><td>8.509995</td><td>0.000136031</td><td>21</td><td>-0.2396703</td></tr>\n",
       "\t<tr><th scope=row>3</th><td>1</td><td>16897_human</td><td>16897</td><td>0</td><td>1</td><td>1</td><td>20</td><td>human</td><td>4529.581</td><td>8.509995</td><td>0.000136031</td><td>20</td><td>-0.2396703</td></tr>\n",
       "</tbody>\n",
       "</table>\n"
      ],
      "text/latex": [
       "A data.frame: 3 × 13\n",
       "\\begin{tabular}{r|lllllllllllll}\n",
       "  & batch & gen\\_passage\\_id & seed\\_passage\\_id & novel & meaningful & pragmatic & annotator\\_id & gen\\_source & ppl & WQRM\\_score & ai\\_likelihood & annotator & ppl\\_log\\_std\\\\\n",
       "  & <int> & <chr> & <fct> & <dbl> & <dbl> & <dbl> & <dbl> & <fct> & <dbl> & <dbl> & <dbl> & <fct> & <dbl{[},1{]}>\\\\\n",
       "\\hline\n",
       "\t1 & 1 & 16897\\_human & 16897 & 0 & 1 & 1 &  9 & human & 4529.581 & 8.509995 & 0.000136031 & 9  & -0.2396703\\\\\n",
       "\t2 & 1 & 16897\\_human & 16897 & 0 & 1 & 1 & 21 & human & 4529.581 & 8.509995 & 0.000136031 & 21 & -0.2396703\\\\\n",
       "\t3 & 1 & 16897\\_human & 16897 & 0 & 1 & 1 & 20 & human & 4529.581 & 8.509995 & 0.000136031 & 20 & -0.2396703\\\\\n",
       "\\end{tabular}\n"
      ],
      "text/markdown": [
       "\n",
       "A data.frame: 3 × 13\n",
       "\n",
       "| <!--/--> | batch &lt;int&gt; | gen_passage_id &lt;chr&gt; | seed_passage_id &lt;fct&gt; | novel &lt;dbl&gt; | meaningful &lt;dbl&gt; | pragmatic &lt;dbl&gt; | annotator_id &lt;dbl&gt; | gen_source &lt;fct&gt; | ppl &lt;dbl&gt; | WQRM_score &lt;dbl&gt; | ai_likelihood &lt;dbl&gt; | annotator &lt;fct&gt; | ppl_log_std &lt;dbl[,1]&gt; |\n",
       "|---|---|---|---|---|---|---|---|---|---|---|---|---|---|\n",
       "| 1 | 1 | 16897_human | 16897 | 0 | 1 | 1 |  9 | human | 4529.581 | 8.509995 | 0.000136031 | 9  | -0.2396703 |\n",
       "| 2 | 1 | 16897_human | 16897 | 0 | 1 | 1 | 21 | human | 4529.581 | 8.509995 | 0.000136031 | 21 | -0.2396703 |\n",
       "| 3 | 1 | 16897_human | 16897 | 0 | 1 | 1 | 20 | human | 4529.581 | 8.509995 | 0.000136031 | 20 | -0.2396703 |\n",
       "\n"
      ],
      "text/plain": [
       "  batch gen_passage_id seed_passage_id novel meaningful pragmatic annotator_id\n",
       "1 1     16897_human    16897           0     1          1          9          \n",
       "2 1     16897_human    16897           0     1          1         21          \n",
       "3 1     16897_human    16897           0     1          1         20          \n",
       "  gen_source ppl      WQRM_score ai_likelihood annotator ppl_log_std\n",
       "1 human      4529.581 8.509995   0.000136031   9         -0.2396703 \n",
       "2 human      4529.581 8.509995   0.000136031   21        -0.2396703 \n",
       "3 human      4529.581 8.509995   0.000136031   20        -0.2396703 "
      ]
     },
     "metadata": {},
     "output_type": "display_data"
    },
    {
     "data": {
      "image/png": "[encoded data removed]",
      "text/plain": [
       "plot without title"
      ]
     },
     "metadata": {
      "image/png": {
       "height": 240,
       "width": 360
      }
     },
     "output_type": "display_data"
    }
   ],
   "source": [
    "# Load the dataset\n",
    "prag_data <- read.csv(\"../data/for_linear_models/prehlt_and_hlt.csv\")\n",
    "# to reproduce pre-hilight only results:\n",
    "# prag_data <- read.csv(\"../data/for_linear_models/prehlt_only.csv\")\n",
    "\n",
    "prag_data <- prag_data[prag_data$batch != 11, ]\n",
    "# # filter out rows where pragmatic is NA\n",
    "prag_data <- prag_data[!is.na(prag_data$pragmatic), ]\n",
    "dim(prag_data)\n",
    "\n",
    "prag_data <- prag_data[prag_data$meaningful != 0, ]\n",
    "\n",
    "prag_data$seed_passage_id <- as.factor(prag_data$seed_passage_id)\n",
    "prag_data$annotator <- as.factor(prag_data$annotator)\n",
    "prag_data$gen_source <- as.factor(prag_data$gen_source)\n",
    "prag_data$gen_source <- relevel(prag_data$gen_source, ref = \"human\")\n",
    "prag_data$ppl_log_std <- scale(log(prag_data$ppl))\n",
    "\n",
    "options(repr.plot.width = 6, repr.plot.height = 4)\n",
    "ggplot(prag_data, aes(x=gen_source, y=ppl_log_std)) +\n",
    "  geom_boxplot() +\n",
    "  theme_minimal() +\n",
    "  labs(title=\"Log Standardized PPL by Generation Source\",\n",
    "       x=\"Generation Source\",\n",
    "       y=\"Log Standardized PPL\") +\n",
    "  theme(axis.text.x = element_text(angle=45, hjust=1))\n",
    "\n",
    "dim(prag_data)\n",
    "# number of unique annotators\n",
    "length(unique(prag_data$expression))\n",
    "table(prag_data$pragmatic)\n",
    "table(prag_data$gen_source)\n",
    "# first few rows\n",
    "head(prag_data, n=3)"
   ]
  },
  {
   "cell_type": "markdown",
   "id": "de414e0f",
   "metadata": {},
   "source": [
    "## pragmatic analysis"
   ]
  },
  {
   "cell_type": "code",
   "execution_count": 157,
   "id": "600977c0",
   "metadata": {
    "vscode": {
     "languageId": "r"
    }
   },
   "outputs": [
    {
     "data": {
      "text/plain": [
       "\n",
       "   0    1 \n",
       " 428 7088 "
      ]
     },
     "metadata": {},
     "output_type": "display_data"
    },
    {
     "data": {
      "text/plain": [
       "   \n",
       "       0    1\n",
       "  1  428 7088"
      ]
     },
     "metadata": {},
     "output_type": "display_data"
    }
   ],
   "source": [
    "# how many are meaningful but not pragmatic?\n",
    "table(prag_data$pragmatic)\n",
    "table(prag_data$meaningful, prag_data$pragmatic)"
   ]
  },
  {
   "cell_type": "code",
   "execution_count": 158,
   "id": "0a0b3746",
   "metadata": {
    "vscode": {
     "languageId": "r"
    }
   },
   "outputs": [
    {
     "name": "stderr",
     "output_type": "stream",
     "text": [
      "Warning message:\n",
      "“the null model is only correct if all the variables it uses are identical \n",
      "to those used in fitting the original model.”\n"
     ]
    },
    {
     "name": "stdout",
     "output_type": "stream",
     "text": [
      "                   R2m       R2c\n",
      "theoretical 0.09363842 0.4665354\n",
      "delta       0.03173207 0.1580989\n"
     ]
    },
    {
     "data": {
      "text/plain": [
       "Generalized linear mixed model fit by maximum likelihood (Laplace\n",
       "  Approximation) [glmerMod]\n",
       " Family: binomial  ( logit )\n",
       "Formula: pragmatic ~ ppl_log_std * gen_source + (1 | annotator) + (1 |  \n",
       "    seed_passage_id)\n",
       "   Data: prag_data\n",
       "\n",
       "      AIC       BIC    logLik -2*log(L)  df.resid \n",
       "   2763.1    2818.5   -1373.5    2747.1      7508 \n",
       "\n",
       "Scaled residuals: \n",
       "     Min       1Q   Median       3Q      Max \n",
       "-15.0105   0.0832   0.1569   0.2482   1.4541 \n",
       "\n",
       "Random effects:\n",
       " Groups          Name        Variance Std.Dev.\n",
       " seed_passage_id (Intercept) 0.3143   0.5606  \n",
       " annotator       (Intercept) 1.9853   1.4090  \n",
       "Number of obs: 7516, groups:  seed_passage_id, 50; annotator, 26\n",
       "\n",
       "Fixed effects:\n",
       "                            Estimate Std. Error z value Pr(>|z|)    \n",
       "(Intercept)                  3.91419    0.31404  12.464  < 2e-16 ***\n",
       "ppl_log_std                  0.01930    0.08908   0.217  0.82852    \n",
       "gen_sourceolmo1             -1.47533    0.15846  -9.310  < 2e-16 ***\n",
       "gen_sourceolmo2              0.43541    0.18190   2.394  0.01668 *  \n",
       "ppl_log_std:gen_sourceolmo1 -0.19394    0.11922  -1.627  0.10378    \n",
       "ppl_log_std:gen_sourceolmo2 -0.50326    0.15778  -3.190  0.00142 ** \n",
       "---\n",
       "Signif. codes:  0 ‘***’ 0.001 ‘**’ 0.01 ‘*’ 0.05 ‘.’ 0.1 ‘ ’ 1\n",
       "\n",
       "Correlation of Fixed Effects:\n",
       "            (Intr) ppl_l_ gn_sr1 gn_sr2 p__:_1\n",
       "ppl_log_std -0.010                            \n",
       "gen_sorclm1 -0.213 -0.006                     \n",
       "gen_sorclm2 -0.117  0.043  0.016              \n",
       "ppl_lg_s:_1  0.003 -0.746  0.031 -0.033       \n",
       "ppl_lg_s:_2  0.000 -0.564  0.011 -0.248  0.420"
      ]
     },
     "metadata": {},
     "output_type": "display_data"
    },
    {
     "data": {
      "text/html": [
       "<strong>ppl_log_std:</strong> 0.0192951143439274"
      ],
      "text/latex": [
       "\\textbf{ppl\\textbackslash{}\\_log\\textbackslash{}\\_std:} 0.0192951143439274"
      ],
      "text/markdown": [
       "**ppl_log_std:** 0.0192951143439274"
      ],
      "text/plain": [
       "ppl_log_std \n",
       " 0.01929511 "
      ]
     },
     "metadata": {},
     "output_type": "display_data"
    },
    {
     "name": "stdout",
     "output_type": "stream",
     "text": [
      "Linear hypothesis test\n",
      "\n",
      "Hypothesis:\n",
      "ppl_log_std = 0\n",
      "\n",
      "Model 1: restricted model\n",
      "Model 2: pragmatic ~ ppl_log_std * gen_source + (1 | annotator) + (1 | \n",
      "    seed_passage_id)\n",
      "\n",
      "  Df  Chisq Pr(>Chisq)\n",
      "1                     \n",
      "2  1 0.0469     0.8285\n"
     ]
    },
    {
     "data": {
      "text/html": [
       "<strong>ppl_log_std:</strong> -0.174648681626199"
      ],
      "text/latex": [
       "\\textbf{ppl\\textbackslash{}\\_log\\textbackslash{}\\_std:} -0.174648681626199"
      ],
      "text/markdown": [
       "**ppl_log_std:** -0.174648681626199"
      ],
      "text/plain": [
       "ppl_log_std \n",
       " -0.1746487 "
      ]
     },
     "metadata": {},
     "output_type": "display_data"
    },
    {
     "name": "stdout",
     "output_type": "stream",
     "text": [
      "Linear hypothesis test\n",
      "\n",
      "Hypothesis:\n",
      "ppl_log_std  + ppl_log_std:gen_sourceolmo1 = 0\n",
      "\n",
      "Model 1: restricted model\n",
      "Model 2: pragmatic ~ ppl_log_std * gen_source + (1 | annotator) + (1 | \n",
      "    seed_passage_id)\n",
      "\n",
      "  Df  Chisq Pr(>Chisq)  \n",
      "1                       \n",
      "2  1 4.8368    0.02786 *\n",
      "---\n",
      "Signif. codes:  0 ‘***’ 0.001 ‘**’ 0.01 ‘*’ 0.05 ‘.’ 0.1 ‘ ’ 1\n"
     ]
    },
    {
     "data": {
      "text/html": [
       "<strong>ppl_log_std:</strong> -0.483962865381824"
      ],
      "text/latex": [
       "\\textbf{ppl\\textbackslash{}\\_log\\textbackslash{}\\_std:} -0.483962865381824"
      ],
      "text/markdown": [
       "**ppl_log_std:** -0.483962865381824"
      ],
      "text/plain": [
       "ppl_log_std \n",
       " -0.4839629 "
      ]
     },
     "metadata": {},
     "output_type": "display_data"
    },
    {
     "name": "stdout",
     "output_type": "stream",
     "text": [
      "Linear hypothesis test\n",
      "\n",
      "Hypothesis:\n",
      "ppl_log_std  + ppl_log_std:gen_sourceolmo2 = 0\n",
      "\n",
      "Model 1: restricted model\n",
      "Model 2: pragmatic ~ ppl_log_std * gen_source + (1 | annotator) + (1 | \n",
      "    seed_passage_id)\n",
      "\n",
      "  Df Chisq Pr(>Chisq)    \n",
      "1                        \n",
      "2  1 13.79  0.0002045 ***\n",
      "---\n",
      "Signif. codes:  0 ‘***’ 0.001 ‘**’ 0.01 ‘*’ 0.05 ‘.’ 0.1 ‘ ’ 1\n"
     ]
    }
   ],
   "source": [
    "m_prag_ppl = glmer(pragmatic ~ ppl_log_std * gen_source + (1 | annotator) + (1 | seed_passage_id), \n",
    "               data = prag_data, family = binomial(link = \"logit\"))\n",
    "print(r.squaredGLMM(m_prag_ppl))\n",
    "summary(m_prag_ppl)\n",
    "fixef(m_prag_ppl)[\"ppl_log_std\"]\n",
    "print(linearHypothesis(m_prag_ppl, \"ppl_log_std = 0\"))\n",
    "fixef(m_prag_ppl)[\"ppl_log_std\"] + fixef(m_prag_ppl)[\"ppl_log_std:gen_sourceolmo1\"]\n",
    "print(linearHypothesis(m_prag_ppl, c(\"ppl_log_std + ppl_log_std:gen_sourceolmo1 = 0\")))\n",
    "fixef(m_prag_ppl)[\"ppl_log_std\"] + fixef(m_prag_ppl)[\"ppl_log_std:gen_sourceolmo2\"]\n",
    "print(linearHypothesis(m_prag_ppl, c(\"ppl_log_std + ppl_log_std:gen_sourceolmo2 = 0\")))"
   ]
  },
  {
   "cell_type": "code",
   "execution_count": 159,
   "id": "9eccada6",
   "metadata": {
    "vscode": {
     "languageId": "r"
    }
   },
   "outputs": [
    {
     "data": {
      "text/html": [
       "<strong>ppl_log_std:</strong> 0.0192951143439274"
      ],
      "text/latex": [
       "\\textbf{ppl\\textbackslash{}\\_log\\textbackslash{}\\_std:} 0.0192951143439274"
      ],
      "text/markdown": [
       "**ppl_log_std:** 0.0192951143439274"
      ],
      "text/plain": [
       "ppl_log_std \n",
       " 0.01929511 "
      ]
     },
     "metadata": {},
     "output_type": "display_data"
    },
    {
     "data": {
      "text/html": [
       "<strong>ppl_log_std:</strong> -0.174648681626199"
      ],
      "text/latex": [
       "\\textbf{ppl\\textbackslash{}\\_log\\textbackslash{}\\_std:} -0.174648681626199"
      ],
      "text/markdown": [
       "**ppl_log_std:** -0.174648681626199"
      ],
      "text/plain": [
       "ppl_log_std \n",
       " -0.1746487 "
      ]
     },
     "metadata": {},
     "output_type": "display_data"
    },
    {
     "data": {
      "text/html": [
       "<strong>ppl_log_std:</strong> -0.483962865381824"
      ],
      "text/latex": [
       "\\textbf{ppl\\textbackslash{}\\_log\\textbackslash{}\\_std:} -0.483962865381824"
      ],
      "text/markdown": [
       "**ppl_log_std:** -0.483962865381824"
      ],
      "text/plain": [
       "ppl_log_std \n",
       " -0.4839629 "
      ]
     },
     "metadata": {},
     "output_type": "display_data"
    }
   ],
   "source": [
    "# get the fixed effect coefficient for ppl_log_std\n",
    "fixef(m_prag_ppl)[\"ppl_log_std\"]\n",
    "fixef(m_prag_ppl)[\"ppl_log_std\"] + fixef(m_prag_ppl)[\"ppl_log_std:gen_sourceolmo1\"]\n",
    "fixef(m_prag_ppl)[\"ppl_log_std\"] + fixef(m_prag_ppl)[\"ppl_log_std:gen_sourceolmo2\"]"
   ]
  },
  {
   "cell_type": "code",
   "execution_count": 160,
   "id": "2cd8892c",
   "metadata": {
    "vscode": {
     "languageId": "r"
    }
   },
   "outputs": [
    {
     "data": {
      "image/png": "[encoded data removed]",
      "text/plain": [
       "plot without title"
      ]
     },
     "metadata": {
      "image/png": {
       "height": 240,
       "width": 600
      }
     },
     "output_type": "display_data"
    }
   ],
   "source": [
    "pragmatic_preds <- ggeffect(m_prag_ppl, terms = c(\"ppl_log_std\", \"gen_source\"), bias_correction = TRUE)\n",
    "options(repr.plot.width = 10, repr.plot.height = 4)\n",
    "ggplot(pragmatic_preds, aes(x = x, y = predicted)) +\n",
    "  geom_line(size = 1.5, color = \"steelblue\") +\n",
    "  geom_ribbon(aes(ymin = conf.low, ymax = conf.high), alpha = 0.2, fill = \"steelblue\") +\n",
    "  facet_wrap(~group) +\n",
    "  labs(\n",
    "    # title = \"Predicted Pragmatism by Generation Source\",\n",
    "    x = \"Standardized Log Perplexity (ppl_log_std)\",\n",
    "    y = \"Probability of being rated as pragmatic\"\n",
    "  ) +\n",
    "  theme_minimal(base_size = 14)\n",
    "\n",
    "# save plot\n",
    "ggsave(\"plots/pragmatism_vs_ppl_log_std_horiz.png\", width = 10, height = 4, dpi = 300, bg = \"white\")"
   ]
  },
  {
   "cell_type": "code",
   "execution_count": 161,
   "metadata": {
    "vscode": {
     "languageId": "r"
    }
   },
   "outputs": [
    {
     "name": "stderr",
     "output_type": "stream",
     "text": [
      "The table was written to the file 'latex/prag_ppl.tex'.\n",
      "\n",
      "\n"
     ]
    }
   ],
   "source": [
    "formula_name <- \"\\\\shortstack[l]{pragmatic \\\\textasciitilde{} ppl\\\\_log\\\\_std * gen\\\\_source  \\\\\\\\ \n",
    "+ (1 \\\\textbar{} annotator) + \\\\\\\\ \n",
    "(1 \\\\textbar{} seed\\\\_passage\\\\_id)}\"\n",
    "# pragmatic ~ ppl_log_std * gen_source + (1 | annotator) + (1 | seed_passage_id)\n",
    "texreg(m_prag_ppl,\n",
    "       caption = \"Mixed-effects logistic regression predicting creativity from standardized PPL\",\n",
    "       custom.model.names = formula_name,\n",
    "       label = \"tab:glmer_ppl_prag_src\",\n",
    "       float.pos = \"htbp\",\n",
    "       booktabs = TRUE,\n",
    "       single.row = TRUE,\n",
    "       ci.force = TRUE,     # include confidence intervals\n",
    "       ci.level = 0.95,\n",
    "       file = \"latex/prag_ppl.tex\")  # writes LaTeX table"
   ]
  },
  {
   "cell_type": "markdown",
   "id": "927b803d",
   "metadata": {},
   "source": [
    "## ai likelihood analysis"
   ]
  },
  {
   "cell_type": "code",
   "execution_count": 162,
   "id": "f0983e61",
   "metadata": {
    "vscode": {
     "languageId": "r"
    }
   },
   "outputs": [
    {
     "data": {
      "text/plain": [
       "\n",
       "   0    1 \n",
       " 137 3390 "
      ]
     },
     "metadata": {},
     "output_type": "display_data"
    },
    {
     "data": {
      "text/plain": [
       "\n",
       "   0    1 \n",
       "7187  470 "
      ]
     },
     "metadata": {},
     "output_type": "display_data"
    },
    {
     "data": {
      "text/plain": [
       "\n",
       "   0    1 \n",
       "7203  454 "
      ]
     },
     "metadata": {},
     "output_type": "display_data"
    }
   ],
   "source": [
    "h_prag_data = prag_data[prag_data$gen_source == \"human\", ]\n",
    "h_prag_data$std_log_ai_likelihood = scale(log(h_prag_data$ai_likelihood))\n",
    "h_prag_data$std_ai_likelihood = scale(h_prag_data$ai_likelihood)\n",
    "h_prag_data$ppl_log_std <- scale(log(h_prag_data$ppl))\n",
    "table(h_prag_data$pragmatic)\n",
    "\n",
    "h_nov_data = nov_data[nov_data$gen_source == \"human\", ]\n",
    "h_nov_data$std_log_ai_likelihood = scale(log(h_nov_data$ai_likelihood))\n",
    "h_nov_data$std_ai_likelihood = scale(h_nov_data$ai_likelihood)\n",
    "h_nov_data$ppl_log_std <- scale(log(h_nov_data$ppl))\n",
    "table(h_nov_data$novel)\n",
    "table(h_nov_data$creative)"
   ]
  },
  {
   "cell_type": "code",
   "execution_count": 163,
   "id": "2a8edf58",
   "metadata": {
    "vscode": {
     "languageId": "r"
    }
   },
   "outputs": [
    {
     "data": {
      "image/png": "[encoded data removed]",
      "text/plain": [
       "plot without title"
      ]
     },
     "metadata": {
      "image/png": {
       "height": 300,
       "width": 540
      }
     },
     "output_type": "display_data"
    }
   ],
   "source": [
    "options(repr.plot.width = 9, repr.plot.height = 5)\n",
    "\n",
    "# get unduplicated h_nov_data by gen_passage_id\n",
    "undup_h_nov_data <- h_nov_data[!duplicated(h_nov_data$gen_passage_id), ]\n",
    "ggplot(undup_h_nov_data, aes(x = std_ai_likelihood)) +\n",
    "  geom_histogram(binwidth = 0.5, fill = \"steelblue\", color = \"black\", alpha = 0.7) +\n",
    "  labs(title = \"Histogram of AI likelihood for human-generated expressions\",\n",
    "      x = \"Standardized AI likelihood\",\n",
    "       y = \"Count\") +\n",
    "  theme_minimal(base_size = 14)\n",
    "\n",
    "# save\n",
    "# ggsave(\"plots/human_log_ai_likelihood_hist.png\", width = 9, height = 5, dpi = 300, bg = \"white\")\n",
    "# ggsave(\"plots/human_ai_likelihood_hist.png\", width = 9, height = 5, dpi = 300, bg = \"white\")"
   ]
  },
  {
   "cell_type": "code",
   "execution_count": 164,
   "id": "9d48cd6e",
   "metadata": {
    "vscode": {
     "languageId": "r"
    }
   },
   "outputs": [
    {
     "data": {
      "image/png": "[encoded data removed]",
      "text/plain": [
       "plot without title"
      ]
     },
     "metadata": {
      "image/png": {
       "height": 300,
       "width": 540
      }
     },
     "output_type": "display_data"
    }
   ],
   "source": [
    "options(repr.plot.width = 9, repr.plot.height = 5)\n",
    "\n",
    "# get unduplicated h_nov_data by gen_passage_id\n",
    "undup_h_nov_data <- h_nov_data[!duplicated(h_nov_data$gen_passage_id), ]\n",
    "ggplot(undup_h_nov_data, aes(x = std_log_ai_likelihood)) +\n",
    "  geom_histogram(binwidth = 0.5, fill = \"steelblue\", color = \"black\", alpha = 0.7) +\n",
    "  labs(title = \"Histogram of AI likelihood for human-generated expressions\",\n",
    "       x = \"Log-standardized AI likelihood\",\n",
    "       y = \"Count\") +\n",
    "  theme_minimal(base_size = 14)\n",
    "\n",
    "# save\n",
    "ggsave(\"plots/human_log_ai_likelihood_hist.png\", width = 9, height = 5, dpi = 300, bg = \"white\")"
   ]
  },
  {
   "cell_type": "code",
   "execution_count": 165,
   "id": "dd1108f9",
   "metadata": {
    "vscode": {
     "languageId": "r"
    }
   },
   "outputs": [
    {
     "data": {
      "text/plain": [
       "Generalized linear mixed model fit by maximum likelihood (Laplace\n",
       "  Approximation) [glmerMod]\n",
       " Family: binomial  ( logit )\n",
       "Formula: \n",
       "pragmatic ~ std_log_ai_likelihood + (1 | annotator) + (1 | seed_passage_id)\n",
       "   Data: h_prag_data\n",
       "\n",
       "      AIC       BIC    logLik -2*log(L)  df.resid \n",
       "   1052.6    1077.2    -522.3    1044.6      3523 \n",
       "\n",
       "Scaled residuals: \n",
       "    Min      1Q  Median      3Q     Max \n",
       "-7.9609  0.0898  0.1368  0.2020  0.6224 \n",
       "\n",
       "Random effects:\n",
       " Groups          Name        Variance Std.Dev.\n",
       " seed_passage_id (Intercept) 0.3661   0.6051  \n",
       " annotator       (Intercept) 1.5035   1.2262  \n",
       "Number of obs: 3527, groups:  seed_passage_id, 50; annotator, 26\n",
       "\n",
       "Fixed effects:\n",
       "                      Estimate Std. Error z value Pr(>|z|)    \n",
       "(Intercept)             3.8578     0.2972  12.980   <2e-16 ***\n",
       "std_log_ai_likelihood  -0.2395     0.1445  -1.658   0.0974 .  \n",
       "---\n",
       "Signif. codes:  0 ‘***’ 0.001 ‘**’ 0.01 ‘*’ 0.05 ‘.’ 0.1 ‘ ’ 1\n",
       "\n",
       "Correlation of Fixed Effects:\n",
       "            (Intr)\n",
       "std_lg__lkl -0.018"
      ]
     },
     "metadata": {},
     "output_type": "display_data"
    },
    {
     "name": "stderr",
     "output_type": "stream",
     "text": [
      "Warning message:\n",
      "“the null model is only correct if all the variables it uses are identical \n",
      "to those used in fitting the original model.”\n"
     ]
    },
    {
     "name": "stdout",
     "output_type": "stream",
     "text": [
      "                    R2m        R2c\n",
      "theoretical 0.010993333 0.36937826\n",
      "delta       0.002257803 0.07586264\n"
     ]
    }
   ],
   "source": [
    "m_prag_ail = glmer(pragmatic ~ std_log_ai_likelihood \n",
    "                                + (1 | annotator) \n",
    "                                + (1 | seed_passage_id), \n",
    "               data = h_prag_data, family = binomial(link = \"logit\"))\n",
    "summary(m_prag_ail)\n",
    "print(r.squaredGLMM(m_prag_ail))"
   ]
  },
  {
   "cell_type": "code",
   "execution_count": 166,
   "id": "e9580077",
   "metadata": {
    "vscode": {
     "languageId": "r"
    }
   },
   "outputs": [
    {
     "name": "stderr",
     "output_type": "stream",
     "text": [
      "The table was written to the file 'latex/prag_ail.tex'.\n",
      "\n",
      "\n"
     ]
    }
   ],
   "source": [
    "formula_name <- \"\\\\shortstack[l]{pragmatic \\\\textasciitilde{} std\\\\_log\\\\_ai\\\\_likelihood  \\\\\\\\ \n",
    "+ (1 \\\\textbar{} annotator) + \\\\\\\\ \n",
    "(1 \\\\textbar{} seed\\\\_passage\\\\_id)}\"\n",
    "\n",
    "texreg(m_prag_ail,\n",
    "       caption = \"Mixed-effects logistic regression predicting pragmaticality from passage-level WQRM scores\",\n",
    "       custom.model.names = formula_name,\n",
    "       label = \"tab:glmer_prag_ail\",\n",
    "       float.pos = \"htbp\",\n",
    "       booktabs = TRUE,\n",
    "       single.row = TRUE,\n",
    "       ci.force = TRUE,     # include confidence intervals\n",
    "       ci.level = 0.95,\n",
    "       file = \"latex/prag_ail.tex\")  # writes LaTeX table"
   ]
  },
  {
   "cell_type": "code",
   "execution_count": 167,
   "id": "c22e025a",
   "metadata": {
    "vscode": {
     "languageId": "r"
    }
   },
   "outputs": [
    {
     "data": {
      "text/plain": [
       "Generalized linear mixed model fit by maximum likelihood (Laplace\n",
       "  Approximation) [glmerMod]\n",
       " Family: binomial  ( logit )\n",
       "Formula: \n",
       "creative ~ std_log_ai_likelihood + (1 | annotator) + (1 | seed_passage_id)\n",
       "   Data: h_nov_data\n",
       "\n",
       "      AIC       BIC    logLik -2*log(L)  df.resid \n",
       "   3200.4    3228.2   -1596.2    3192.4      7653 \n",
       "\n",
       "Scaled residuals: \n",
       "    Min      1Q  Median      3Q     Max \n",
       "-0.6083 -0.2602 -0.1919 -0.1491  8.6253 \n",
       "\n",
       "Random effects:\n",
       " Groups          Name        Variance Std.Dev.\n",
       " seed_passage_id (Intercept) 0.3144   0.5607  \n",
       " annotator       (Intercept) 0.5481   0.7404  \n",
       "Number of obs: 7657, groups:  seed_passage_id, 50; annotator, 26\n",
       "\n",
       "Fixed effects:\n",
       "                      Estimate Std. Error z value Pr(>|z|)    \n",
       "(Intercept)           -3.09262    0.17807  -17.37   <2e-16 ***\n",
       "std_log_ai_likelihood  0.06582    0.11165    0.59    0.556    \n",
       "---\n",
       "Signif. codes:  0 ‘***’ 0.001 ‘**’ 0.01 ‘*’ 0.05 ‘.’ 0.1 ‘ ’ 1\n",
       "\n",
       "Correlation of Fixed Effects:\n",
       "            (Intr)\n",
       "std_lg__lkl -0.011"
      ]
     },
     "metadata": {},
     "output_type": "display_data"
    },
    {
     "name": "stderr",
     "output_type": "stream",
     "text": [
      "Warning message:\n",
      "“the null model is only correct if all the variables it uses are identical \n",
      "to those used in fitting the original model.”\n"
     ]
    },
    {
     "name": "stdout",
     "output_type": "stream",
     "text": [
      "                     R2m        R2c\n",
      "theoretical 0.0010422146 0.20854922\n",
      "delta       0.0002370052 0.04742522\n"
     ]
    }
   ],
   "source": [
    "m_nov_ail = glmer(creative ~ std_log_ai_likelihood + (1 | annotator) + (1 | seed_passage_id), \n",
    "               data = h_nov_data, family = binomial(link = \"logit\"))\n",
    "summary(m_nov_ail)\n",
    "print(r.squaredGLMM(m_nov_ail))"
   ]
  },
  {
   "cell_type": "code",
   "execution_count": 168,
   "id": "c4a587c1",
   "metadata": {
    "vscode": {
     "languageId": "r"
    }
   },
   "outputs": [
    {
     "name": "stderr",
     "output_type": "stream",
     "text": [
      "The table was written to the file 'latex/nov_ail.tex'.\n",
      "\n",
      "\n"
     ]
    }
   ],
   "source": [
    "formula_name <- \"\\\\shortstack[l]{creative \\\\textasciitilde{} std\\\\_log\\\\_ai\\\\_likelihood  \\\\\\\\ \n",
    "+ (1 \\\\textbar{} annotator) + \\\\\\\\ \n",
    "(1 \\\\textbar{} seed\\\\_passage\\\\_id)}\"\n",
    "\n",
    "texreg(m_nov_ail,\n",
    "       caption = \"Mixed-effects logistic regression predicting creativity from passage-level AI likelihood scores\",\n",
    "       custom.model.names = formula_name,\n",
    "       label = \"tab:glmer_nov_ail\",\n",
    "       float.pos = \"htbp\",\n",
    "       booktabs = TRUE,\n",
    "       single.row = TRUE,\n",
    "       ci.force = TRUE,     # include confidence intervals\n",
    "       ci.level = 0.95,\n",
    "       file = \"latex/nov_ail.tex\")  # writes LaTeX table"
   ]
  },
  {
   "cell_type": "code",
   "execution_count": 169,
   "id": "1dc9db0b",
   "metadata": {
    "vscode": {
     "languageId": "r"
    }
   },
   "outputs": [
    {
     "data": {
      "text/html": [
       "<style>\n",
       ".dl-inline {width: auto; margin:0; padding: 0}\n",
       ".dl-inline>dt, .dl-inline>dd {float: none; width: auto; display: inline-block}\n",
       ".dl-inline>dt::after {content: \":\\0020\"; padding-right: .5ex}\n",
       ".dl-inline>dt:not(:first-of-type) {padding-left: .5ex}\n",
       "</style><dl class=dl-inline><dt>(Intercept)</dt><dd>47.3610860870697</dd><dt>std_log_ai_likelihood</dt><dd>0.787036918766938</dd></dl>\n"
      ],
      "text/latex": [
       "\\begin{description*}\n",
       "\\item[(Intercept)] 47.3610860870697\n",
       "\\item[std\\textbackslash{}\\_log\\textbackslash{}\\_ai\\textbackslash{}\\_likelihood] 0.787036918766938\n",
       "\\end{description*}\n"
      ],
      "text/markdown": [
       "(Intercept)\n",
       ":   47.3610860870697std_log_ai_likelihood\n",
       ":   0.787036918766938\n",
       "\n"
      ],
      "text/plain": [
       "          (Intercept) std_log_ai_likelihood \n",
       "           47.3610861             0.7870369 "
      ]
     },
     "metadata": {},
     "output_type": "display_data"
    }
   ],
   "source": [
    "# get odds ratio\n",
    "exp(fixef(m_prag_ail))"
   ]
  },
  {
   "cell_type": "markdown",
   "id": "ec908ca1",
   "metadata": {},
   "source": [
    "## writing quality analysis"
   ]
  },
  {
   "cell_type": "code",
   "execution_count": 170,
   "id": "6afc2d3e",
   "metadata": {
    "vscode": {
     "languageId": "r"
    }
   },
   "outputs": [
    {
     "data": {
      "image/png": "[encoded data removed]",
      "text/plain": [
       "plot without title"
      ]
     },
     "metadata": {
      "image/png": {
       "height": 300,
       "width": 540
      }
     },
     "output_type": "display_data"
    }
   ],
   "source": [
    "undup_nov_data <- nov_data[!duplicated(nov_data$gen_passage_id), ]\n",
    "ggplot(undup_nov_data, aes(x = gen_source, y = WQRM_score)) + \n",
    "  geom_boxplot() +\n",
    "  # x axis label: generation source\n",
    "  labs(x = \"Generation Source\", y = \"Writing Quality (WQRM Score)\")\n",
    "  \n",
    "# save plot\n",
    "ggsave(\"plots/writing_quality_by_gen_source.png\", width = 6, height = 4, dpi = 300, bg = \"white\")"
   ]
  },
  {
   "cell_type": "code",
   "execution_count": 171,
   "id": "6d5ac328",
   "metadata": {
    "vscode": {
     "languageId": "r"
    }
   },
   "outputs": [
    {
     "data": {
      "text/plain": [
       "Generalized linear mixed model fit by maximum likelihood (Laplace\n",
       "  Approximation) [glmerMod]\n",
       " Family: binomial  ( logit )\n",
       "Formula: creative ~ WQRM_score + (1 | annotator) + (1 | seed_passage_id)\n",
       "   Data: nov_data\n",
       "\n",
       "      AIC       BIC    logLik -2*log(L)  df.resid \n",
       "   5486.4    5517.1   -2739.2    5478.4     16027 \n",
       "\n",
       "Scaled residuals: \n",
       "    Min      1Q  Median      3Q     Max \n",
       "-0.6378 -0.2266 -0.1688 -0.1276 12.2079 \n",
       "\n",
       "Random effects:\n",
       " Groups          Name        Variance Std.Dev.\n",
       " seed_passage_id (Intercept) 0.3561   0.5968  \n",
       " annotator       (Intercept) 0.5070   0.7120  \n",
       "Number of obs: 16031, groups:  seed_passage_id, 50; annotator, 26\n",
       "\n",
       "Fixed effects:\n",
       "            Estimate Std. Error z value Pr(>|z|)    \n",
       "(Intercept) -5.26453    0.33024 -15.942  < 2e-16 ***\n",
       "WQRM_score   0.25078    0.03639   6.892 5.49e-12 ***\n",
       "---\n",
       "Signif. codes:  0 ‘***’ 0.001 ‘**’ 0.01 ‘*’ 0.05 ‘.’ 0.1 ‘ ’ 1\n",
       "\n",
       "Correlation of Fixed Effects:\n",
       "           (Intr)\n",
       "WQRM_score -0.856"
      ]
     },
     "metadata": {},
     "output_type": "display_data"
    },
    {
     "name": "stderr",
     "output_type": "stream",
     "text": [
      "Warning message:\n",
      "“the null model is only correct if all the variables it uses are identical \n",
      "to those used in fitting the original model.”\n"
     ]
    },
    {
     "name": "stdout",
     "output_type": "stream",
     "text": [
      "                    R2m        R2c\n",
      "theoretical 0.022052571 0.22530003\n",
      "delta       0.004139062 0.04228672\n"
     ]
    }
   ],
   "source": [
    "m_nov_wqrm = glmer(creative ~ WQRM_score \n",
    "                    + (1 | annotator)\n",
    "                    + (1 | seed_passage_id),\n",
    "               data = nov_data, family = binomial(link = \"logit\"))\n",
    "summary(m_nov_wqrm)\n",
    "print(r.squaredGLMM(m_nov_wqrm))"
   ]
  },
  {
   "cell_type": "code",
   "execution_count": 172,
   "id": "cf8e4162",
   "metadata": {
    "vscode": {
     "languageId": "r"
    }
   },
   "outputs": [
    {
     "name": "stderr",
     "output_type": "stream",
     "text": [
      "The table was written to the file 'latex/nov_wqrm.tex'.\n",
      "\n",
      "\n"
     ]
    }
   ],
   "source": [
    "formula_name <- \"\\\\shortstack[l]{creative \\\\textasciitilde{} WQRM\\\\_score  \\\\\\\\ \n",
    "+ (1 \\\\textbar{} annotator) + \\\\\\\\ \n",
    "(1 \\\\textbar{} seed\\\\_passage\\\\_id)}\"\n",
    "\n",
    "texreg(m_nov_wqrm,\n",
    "       caption = \"Mixed-effects logistic regression predicting creativity from passage-level WQRM scores\",\n",
    "       custom.model.names = formula_name,\n",
    "       label = \"tab:glmer_nov_src_front\",\n",
    "       float.pos = \"htbp\",\n",
    "       booktabs = TRUE,\n",
    "       single.row = TRUE,\n",
    "       ci.force = TRUE,     # include confidence intervals\n",
    "       ci.level = 0.95,\n",
    "       file = \"latex/nov_wqrm.tex\")  # writes LaTeX table"
   ]
  },
  {
   "cell_type": "code",
   "execution_count": 173,
   "id": "c3346f8a",
   "metadata": {
    "vscode": {
     "languageId": "r"
    }
   },
   "outputs": [
    {
     "data": {
      "text/html": [
       "<style>\n",
       ".dl-inline {width: auto; margin:0; padding: 0}\n",
       ".dl-inline>dt, .dl-inline>dd {float: none; width: auto; display: inline-block}\n",
       ".dl-inline>dt::after {content: \":\\0020\"; padding-right: .5ex}\n",
       ".dl-inline>dt:not(:first-of-type) {padding-left: .5ex}\n",
       "</style><dl class=dl-inline><dt>(Intercept)</dt><dd>0.00517181713648932</dd><dt>WQRM_score</dt><dd>1.28502466785302</dd></dl>\n"
      ],
      "text/latex": [
       "\\begin{description*}\n",
       "\\item[(Intercept)] 0.00517181713648932\n",
       "\\item[WQRM\\textbackslash{}\\_score] 1.28502466785302\n",
       "\\end{description*}\n"
      ],
      "text/markdown": [
       "(Intercept)\n",
       ":   0.00517181713648932WQRM_score\n",
       ":   1.28502466785302\n",
       "\n"
      ],
      "text/plain": [
       "(Intercept)  WQRM_score \n",
       "0.005171817 1.285024668 "
      ]
     },
     "metadata": {},
     "output_type": "display_data"
    }
   ],
   "source": [
    "# get odds ratio\n",
    "exp(fixef(m_nov_wqrm))"
   ]
  },
  {
   "cell_type": "code",
   "execution_count": 174,
   "id": "006bc995",
   "metadata": {
    "vscode": {
     "languageId": "r"
    }
   },
   "outputs": [
    {
     "data": {
      "text/plain": [
       "Generalized linear mixed model fit by maximum likelihood (Laplace\n",
       "  Approximation) [glmerMod]\n",
       " Family: binomial  ( logit )\n",
       "Formula: pragmatic ~ WQRM_score + (1 | annotator) + (1 | seed_passage_id)\n",
       "   Data: prag_data\n",
       "\n",
       "      AIC       BIC    logLik -2*log(L)  df.resid \n",
       "   2825.6    2853.3   -1408.8    2817.6      7512 \n",
       "\n",
       "Scaled residuals: \n",
       "     Min       1Q   Median       3Q      Max \n",
       "-12.8673   0.0853   0.1647   0.2613   1.4226 \n",
       "\n",
       "Random effects:\n",
       " Groups          Name        Variance Std.Dev.\n",
       " seed_passage_id (Intercept) 0.7526   0.8675  \n",
       " annotator       (Intercept) 1.8610   1.3642  \n",
       "Number of obs: 7516, groups:  seed_passage_id, 50; annotator, 26\n",
       "\n",
       "Fixed effects:\n",
       "            Estimate Std. Error z value Pr(>|z|)    \n",
       "(Intercept)  1.50651    0.47066   3.201  0.00137 ** \n",
       "WQRM_score   0.28099    0.04936   5.693 1.25e-08 ***\n",
       "---\n",
       "Signif. codes:  0 ‘***’ 0.001 ‘**’ 0.01 ‘*’ 0.05 ‘.’ 0.1 ‘ ’ 1\n",
       "\n",
       "Correlation of Fixed Effects:\n",
       "           (Intr)\n",
       "WQRM_score -0.750"
      ]
     },
     "metadata": {},
     "output_type": "display_data"
    },
    {
     "name": "stderr",
     "output_type": "stream",
     "text": [
      "Warning message:\n",
      "“the null model is only correct if all the variables it uses are identical \n",
      "to those used in fitting the original model.”\n"
     ]
    },
    {
     "name": "stdout",
     "output_type": "stream",
     "text": [
      "                    R2m       R2c\n",
      "theoretical 0.019594323 0.4536425\n",
      "delta       0.006535672 0.1513121\n"
     ]
    }
   ],
   "source": [
    "# writing quality vs novelty\n",
    "m_prag_wqrm = glmer(pragmatic ~ WQRM_score \n",
    "                    + (1 | annotator)\n",
    "                    + (1 | seed_passage_id),\n",
    "               data = prag_data, family = binomial(link = \"logit\"))\n",
    "summary(m_prag_wqrm)\n",
    "print(r.squaredGLMM(m_prag_wqrm))"
   ]
  },
  {
   "cell_type": "code",
   "execution_count": 175,
   "id": "7783fd3a",
   "metadata": {
    "vscode": {
     "languageId": "r"
    }
   },
   "outputs": [
    {
     "name": "stderr",
     "output_type": "stream",
     "text": [
      "The table was written to the file 'latex/prag_wqrm.tex'.\n",
      "\n",
      "\n"
     ]
    }
   ],
   "source": [
    "formula_name <- \"\\\\shortstack[l]{pragmatic \\\\textasciitilde{} WQRM\\\\_score  \\\\\\\\ \n",
    "+ (1 \\\\textbar{} annotator) + \\\\\\\\ \n",
    "(1 \\\\textbar{} seed\\\\_passage\\\\_id)}\"\n",
    "\n",
    "texreg(m_prag_wqrm,\n",
    "       caption = \"Mixed-effects logistic regression predicting pragmaticality from passage-level WQRM scores\",\n",
    "       custom.model.names = formula_name,\n",
    "       label = \"tab:glmer_nov_src_front\",\n",
    "       float.pos = \"htbp\",\n",
    "       booktabs = TRUE,\n",
    "       single.row = TRUE,\n",
    "       ci.force = TRUE,     # include confidence intervals\n",
    "       ci.level = 0.95,\n",
    "       file = \"latex/prag_wqrm.tex\")  # writes LaTeX table"
   ]
  },
  {
   "cell_type": "code",
   "execution_count": 176,
   "id": "6f561705",
   "metadata": {
    "vscode": {
     "languageId": "r"
    }
   },
   "outputs": [
    {
     "data": {
      "text/html": [
       "<style>\n",
       ".dl-inline {width: auto; margin:0; padding: 0}\n",
       ".dl-inline>dt, .dl-inline>dd {float: none; width: auto; display: inline-block}\n",
       ".dl-inline>dt::after {content: \":\\0020\"; padding-right: .5ex}\n",
       ".dl-inline>dt:not(:first-of-type) {padding-left: .5ex}\n",
       "</style><dl class=dl-inline><dt>(Intercept)</dt><dd>4.51097252368532</dd><dt>WQRM_score</dt><dd>1.32443834836959</dd></dl>\n"
      ],
      "text/latex": [
       "\\begin{description*}\n",
       "\\item[(Intercept)] 4.51097252368532\n",
       "\\item[WQRM\\textbackslash{}\\_score] 1.32443834836959\n",
       "\\end{description*}\n"
      ],
      "text/markdown": [
       "(Intercept)\n",
       ":   4.51097252368532WQRM_score\n",
       ":   1.32443834836959\n",
       "\n"
      ],
      "text/plain": [
       "(Intercept)  WQRM_score \n",
       "   4.510973    1.324438 "
      ]
     },
     "metadata": {},
     "output_type": "display_data"
    }
   ],
   "source": [
    "exp(fixef(m_prag_wqrm))"
   ]
  },
  {
   "cell_type": "markdown",
   "id": "a0ee8eb6",
   "metadata": {},
   "source": [
    "# Frontier analysis"
   ]
  },
  {
   "cell_type": "markdown",
   "id": "4519791e",
   "metadata": {},
   "source": [
    "## load novelty data"
   ]
  },
  {
   "cell_type": "code",
   "execution_count": 147,
   "id": "9ce8e8e5",
   "metadata": {
    "vscode": {
     "languageId": "r"
    }
   },
   "outputs": [
    {
     "data": {
      "text/plain": [
       "\n",
       "    0     1 \n",
       "17493   830 "
      ]
     },
     "metadata": {},
     "output_type": "display_data"
    },
    {
     "data": {
      "text/plain": [
       "\n",
       "    0     1 \n",
       "17524   799 "
      ]
     },
     "metadata": {},
     "output_type": "display_data"
    },
    {
     "data": {
      "text/html": [
       "<style>\n",
       ".list-inline {list-style: none; margin:0; padding: 0}\n",
       ".list-inline>li {display: inline-block}\n",
       ".list-inline>li:not(:last-child)::after {content: \"\\00b7\"; padding: 0 .5ex}\n",
       "</style>\n",
       "<ol class=list-inline><li>18322</li><li>14</li></ol>\n"
      ],
      "text/latex": [
       "\\begin{enumerate*}\n",
       "\\item 18322\n",
       "\\item 14\n",
       "\\end{enumerate*}\n"
      ],
      "text/markdown": [
       "1. 18322\n",
       "2. 14\n",
       "\n",
       "\n"
      ],
      "text/plain": [
       "[1] 18322    14"
      ]
     },
     "metadata": {},
     "output_type": "display_data"
    },
    {
     "data": {
      "text/html": [
       "0"
      ],
      "text/latex": [
       "0"
      ],
      "text/markdown": [
       "0"
      ],
      "text/plain": [
       "[1] 0"
      ]
     },
     "metadata": {},
     "output_type": "display_data"
    },
    {
     "data": {
      "text/plain": [
       "\n",
       "    0     1 \n",
       "17493   829 "
      ]
     },
     "metadata": {},
     "output_type": "display_data"
    },
    {
     "data": {
      "text/plain": [
       "\n",
       " human claude   gpt5  olmo1  olmo2 \n",
       "  7657   1175   1116   4384   3990 "
      ]
     },
     "metadata": {},
     "output_type": "display_data"
    },
    {
     "data": {
      "text/html": [
       "<table class=\"dataframe\">\n",
       "<caption>A data.frame: 3 × 14</caption>\n",
       "<thead>\n",
       "\t<tr><th></th><th scope=col>batch</th><th scope=col>gen_passage_id</th><th scope=col>seed_passage_id</th><th scope=col>novel</th><th scope=col>meaningful</th><th scope=col>pragmatic</th><th scope=col>annotator_id</th><th scope=col>gen_source</th><th scope=col>ppl</th><th scope=col>WQRM_score</th><th scope=col>ai_likelihood</th><th scope=col>creative</th><th scope=col>annotator</th><th scope=col>ppl_log_std</th></tr>\n",
       "\t<tr><th></th><th scope=col>&lt;int&gt;</th><th scope=col>&lt;chr&gt;</th><th scope=col>&lt;fct&gt;</th><th scope=col>&lt;dbl&gt;</th><th scope=col>&lt;dbl&gt;</th><th scope=col>&lt;dbl&gt;</th><th scope=col>&lt;dbl&gt;</th><th scope=col>&lt;fct&gt;</th><th scope=col>&lt;dbl&gt;</th><th scope=col>&lt;dbl&gt;</th><th scope=col>&lt;dbl&gt;</th><th scope=col>&lt;dbl&gt;</th><th scope=col>&lt;fct&gt;</th><th scope=col>&lt;dbl[,1]&gt;</th></tr>\n",
       "</thead>\n",
       "<tbody>\n",
       "\t<tr><th scope=row>1</th><td>1</td><td>16897_human</td><td>16897</td><td>0</td><td>1</td><td>1</td><td> 9</td><td>human</td><td>4529.581</td><td>8.509995</td><td>0.000136031</td><td>0</td><td>9 </td><td>0.1540408</td></tr>\n",
       "\t<tr><th scope=row>2</th><td>1</td><td>16897_human</td><td>16897</td><td>0</td><td>1</td><td>1</td><td>21</td><td>human</td><td>4529.581</td><td>8.509995</td><td>0.000136031</td><td>0</td><td>21</td><td>0.1540408</td></tr>\n",
       "\t<tr><th scope=row>3</th><td>1</td><td>16897_human</td><td>16897</td><td>0</td><td>1</td><td>1</td><td>20</td><td>human</td><td>4529.581</td><td>8.509995</td><td>0.000136031</td><td>0</td><td>20</td><td>0.1540408</td></tr>\n",
       "</tbody>\n",
       "</table>\n"
      ],
      "text/latex": [
       "A data.frame: 3 × 14\n",
       "\\begin{tabular}{r|llllllllllllll}\n",
       "  & batch & gen\\_passage\\_id & seed\\_passage\\_id & novel & meaningful & pragmatic & annotator\\_id & gen\\_source & ppl & WQRM\\_score & ai\\_likelihood & creative & annotator & ppl\\_log\\_std\\\\\n",
       "  & <int> & <chr> & <fct> & <dbl> & <dbl> & <dbl> & <dbl> & <fct> & <dbl> & <dbl> & <dbl> & <dbl> & <fct> & <dbl{[},1{]}>\\\\\n",
       "\\hline\n",
       "\t1 & 1 & 16897\\_human & 16897 & 0 & 1 & 1 &  9 & human & 4529.581 & 8.509995 & 0.000136031 & 0 & 9  & 0.1540408\\\\\n",
       "\t2 & 1 & 16897\\_human & 16897 & 0 & 1 & 1 & 21 & human & 4529.581 & 8.509995 & 0.000136031 & 0 & 21 & 0.1540408\\\\\n",
       "\t3 & 1 & 16897\\_human & 16897 & 0 & 1 & 1 & 20 & human & 4529.581 & 8.509995 & 0.000136031 & 0 & 20 & 0.1540408\\\\\n",
       "\\end{tabular}\n"
      ],
      "text/markdown": [
       "\n",
       "A data.frame: 3 × 14\n",
       "\n",
       "| <!--/--> | batch &lt;int&gt; | gen_passage_id &lt;chr&gt; | seed_passage_id &lt;fct&gt; | novel &lt;dbl&gt; | meaningful &lt;dbl&gt; | pragmatic &lt;dbl&gt; | annotator_id &lt;dbl&gt; | gen_source &lt;fct&gt; | ppl &lt;dbl&gt; | WQRM_score &lt;dbl&gt; | ai_likelihood &lt;dbl&gt; | creative &lt;dbl&gt; | annotator &lt;fct&gt; | ppl_log_std &lt;dbl[,1]&gt; |\n",
       "|---|---|---|---|---|---|---|---|---|---|---|---|---|---|---|\n",
       "| 1 | 1 | 16897_human | 16897 | 0 | 1 | 1 |  9 | human | 4529.581 | 8.509995 | 0.000136031 | 0 | 9  | 0.1540408 |\n",
       "| 2 | 1 | 16897_human | 16897 | 0 | 1 | 1 | 21 | human | 4529.581 | 8.509995 | 0.000136031 | 0 | 21 | 0.1540408 |\n",
       "| 3 | 1 | 16897_human | 16897 | 0 | 1 | 1 | 20 | human | 4529.581 | 8.509995 | 0.000136031 | 0 | 20 | 0.1540408 |\n",
       "\n"
      ],
      "text/plain": [
       "  batch gen_passage_id seed_passage_id novel meaningful pragmatic annotator_id\n",
       "1 1     16897_human    16897           0     1          1          9          \n",
       "2 1     16897_human    16897           0     1          1         21          \n",
       "3 1     16897_human    16897           0     1          1         20          \n",
       "  gen_source ppl      WQRM_score ai_likelihood creative annotator ppl_log_std\n",
       "1 human      4529.581 8.509995   0.000136031   0        9         0.1540408  \n",
       "2 human      4529.581 8.509995   0.000136031   0        21        0.1540408  \n",
       "3 human      4529.581 8.509995   0.000136031   0        20        0.1540408  "
      ]
     },
     "metadata": {},
     "output_type": "display_data"
    },
    {
     "data": {
      "image/png": "[encoded data removed]",
      "text/plain": [
       "plot without title"
      ]
     },
     "metadata": {
      "image/png": {
       "height": 240,
       "width": 360
      }
     },
     "output_type": "display_data"
    }
   ],
   "source": [
    "front_nov_data <- read.csv(\"../data/for_linear_models/prehlt_and_hlt.csv\")\n",
    "\n",
    "table(front_nov_data$novel)\n",
    "# if pragmatic or meaningful is not na and is 0, set novel to 0 (ignore NA)\n",
    "front_nov_data$creative <- ifelse((!is.na(front_nov_data$pragmatic) & front_nov_data$pragmatic == 0) | \n",
    "                             (!is.na(front_nov_data$meaningful) & front_nov_data$meaningful == 0), 0, front_nov_data$novel)\n",
    "table(front_nov_data$creative)\n",
    "    \n",
    "front_nov_data$seed_passage_id <- as.factor(front_nov_data$seed_passage_id)\n",
    "front_nov_data$annotator <- as.factor(front_nov_data$annotator_id)\n",
    "front_nov_data$gen_source <- as.factor(front_nov_data$gen_source)\n",
    "front_nov_data$gen_source <- relevel(front_nov_data$gen_source, ref = \"human\")\n",
    "front_nov_data$ppl_log_std <- scale(log(front_nov_data$ppl))\n",
    "\n",
    "options(repr.plot.width = 6, repr.plot.height = 4)\n",
    "ggplot(front_nov_data, aes(x=gen_source, y=ppl_log_std)) +\n",
    "  geom_boxplot() +\n",
    "  theme_minimal() +\n",
    "  labs(title=\"Log Standardized PPL by Generation Source\",\n",
    "       x=\"Generation Source\",\n",
    "       y=\"Log Standardized PPL\") +\n",
    "  theme(axis.text.x = element_text(angle=45, hjust=1))\n",
    "\n",
    "# remove the outlier expression\n",
    "front_nov_data <- front_nov_data[front_nov_data$ppl_log_std < 4, ]\n",
    "dim(front_nov_data)\n",
    "# number of unique annotators\n",
    "length(unique(front_nov_data$expression))\n",
    "table(front_nov_data$novel)\n",
    "table(front_nov_data$gen_source)\n",
    "# first few rows\n",
    "head(front_nov_data, n=3)"
   ]
  },
  {
   "cell_type": "markdown",
   "id": "0ea63aeb",
   "metadata": {},
   "source": [
    "## novelty analysis"
   ]
  },
  {
   "cell_type": "code",
   "execution_count": 148,
   "metadata": {
    "vscode": {
     "languageId": "r"
    }
   },
   "outputs": [
    {
     "name": "stderr",
     "output_type": "stream",
     "text": [
      "Warning message:\n",
      "“the null model is only correct if all the variables it uses are identical \n",
      "to those used in fitting the original model.”\n"
     ]
    },
    {
     "name": "stdout",
     "output_type": "stream",
     "text": [
      "                    R2m        R2c\n",
      "theoretical 0.022133291 0.22639870\n",
      "delta       0.004157853 0.04253017\n",
      " gen_source   prob      SE  df asymp.LCL asymp.UCL\n",
      " human      0.0439 0.00735 Inf    0.0316    0.0608\n",
      " claude     0.0230 0.00651 Inf    0.0132    0.0399\n",
      " gpt5       0.0225 0.00649 Inf    0.0128    0.0394\n",
      " olmo1      0.0230 0.00447 Inf    0.0157    0.0336\n",
      " olmo2      0.0271 0.00521 Inf    0.0186    0.0394\n",
      "\n",
      "Confidence level used: 0.95 \n",
      "Intervals are back-transformed from the logit scale \n",
      " contrast       odds.ratio     SE  df null z.ratio p.value\n",
      " claude / human      0.513 0.1231 Inf    1  -2.781  0.0199\n",
      " gpt5 / human        0.501 0.1238 Inf    1  -2.797  0.0190\n",
      " olmo1 / human       0.512 0.0613 Inf    1  -5.590  <.0001\n",
      " olmo2 / human       0.606 0.0715 Inf    1  -4.244  0.0001\n",
      "\n",
      "P value adjustment: dunnettx method for 4 tests \n",
      "Tests are performed on the log odds ratio scale \n"
     ]
    },
    {
     "data": {
      "image/png": "[encoded data removed]",
      "text/plain": [
       "plot without title"
      ]
     },
     "metadata": {
      "image/png": {
       "height": 300,
       "width": 300
      }
     },
     "output_type": "display_data"
    }
   ],
   "source": [
    "m_front_nov = glmer(creative ~  gen_source \n",
    "                    + (1 | annotator) \n",
    "                    + (1 | seed_passage_id), \n",
    "               data = front_nov_data, family = binomial(link = \"logit\"))\n",
    "print(r.squaredGLMM(m_front_nov))\n",
    "# summary(m_nov)\n",
    "emm <- emmeans(m_front_nov, ~ gen_source, type = \"response\")\n",
    "\n",
    "# View results\n",
    "print(emm)\n",
    "\n",
    "# Plot\n",
    "options(repr.plot.width = 5, repr.plot.height = 5)\n",
    "plot(emm) +\n",
    "  labs(\n",
    "    title = \"Probability of Being Judged Novel\",\n",
    "    x = \"Predicted Probability\",\n",
    "    y = \"Generation Source\",\n",
    "    caption = \"Estimated from GLMM controlling for annotator and paragraph\"\n",
    "  ) +\n",
    "  theme_minimal()\n",
    "\n",
    "contr = contrast(emm, \"trt.vs.ctrl\", ref = \"human\", type = \"response\")\n",
    "# summary(contr)\n",
    "print(summary(contr))\n",
    "# confint_df = confint(contr)\n",
    "# print(confint_df)"
   ]
  },
  {
   "cell_type": "code",
   "execution_count": 149,
   "id": "933737e4",
   "metadata": {
    "vscode": {
     "languageId": "r"
    }
   },
   "outputs": [
    {
     "name": "stderr",
     "output_type": "stream",
     "text": [
      "The table was written to the file 'latex/nov_src.tex'.\n",
      "\n",
      "\n"
     ]
    }
   ],
   "source": [
    "\n",
    "formula_name <- \"\\\\shortstack[l]{creative \\\\textasciitilde{} gen\\\\_source  \\\\\\\\ \n",
    "+ (1 \\\\textbar{} annotator) + \\\\\\\\ \n",
    "(1 \\\\textbar{} seed\\\\_passage\\\\_id)}\"\n",
    "# pragmatic ~ ppl_log_std * gen_source + (1 | annotator) + (1 | seed_passage_id)\n",
    "texreg(m_front_nov,\n",
    "       caption = \"Mixed-effects logistic regression predicting creativity from generation source (comparing humans and all models)\",\n",
    "       custom.model.names = formula_name,\n",
    "       label = \"tab:glmer_nov_src_front\",\n",
    "       float.pos = \"htbp\",\n",
    "       booktabs = TRUE,\n",
    "       single.row = TRUE,\n",
    "       ci.force = TRUE,     # include confidence intervals\n",
    "       ci.level = 0.95,\n",
    "       file = \"latex/nov_src.tex\")  # writes LaTeX table"
   ]
  },
  {
   "cell_type": "markdown",
   "id": "a87f005a",
   "metadata": {},
   "source": [
    "## load pragmatic data"
   ]
  },
  {
   "cell_type": "code",
   "execution_count": 177,
   "id": "ecaa2f3c",
   "metadata": {
    "vscode": {
     "languageId": "r"
    }
   },
   "outputs": [
    {
     "data": {
      "text/plain": [
       "   \n",
       "    claude gpt5 human olmo1 olmo2\n",
       "  0     12   43   204   303   160\n",
       "  1    555  481  3400  1656  2045"
      ]
     },
     "metadata": {},
     "output_type": "display_data"
    },
    {
     "data": {
      "text/plain": [
       "   \n",
       "    claude gpt5 human olmo1 olmo2\n",
       "  0     12   43   204   303   160\n",
       "  1    555  481  3400  1656  2045"
      ]
     },
     "metadata": {},
     "output_type": "display_data"
    },
    {
     "data": {
      "text/plain": [
       "\n",
       "11660_claude   11660_gpt5  11660_human 11680_claude   11680_gpt5  11680_human \n",
       "         240          225          141          168          208          140 \n",
       "12838_claude   12838_gpt5  12838_human 14062_claude   14062_gpt5  14062_human \n",
       "         213          227          141          252          248          155 \n",
       "  706_claude     706_gpt5    706_human \n",
       "         302          208          187 "
      ]
     },
     "metadata": {},
     "output_type": "display_data"
    },
    {
     "data": {
      "text/plain": [
       "   \n",
       "       0    1\n",
       "  0   31    0\n",
       "  1   60 1390"
      ]
     },
     "metadata": {},
     "output_type": "display_data"
    },
    {
     "data": {
      "text/plain": [
       "        \n",
       "           0   1\n",
       "  claude  12 555\n",
       "  gpt5    43 481\n",
       "  human   36 354"
      ]
     },
     "metadata": {},
     "output_type": "display_data"
    },
    {
     "data": {
      "text/plain": [
       "        \n",
       "           0   1\n",
       "  claude   7 560\n",
       "  gpt5    15 509\n",
       "  human    9 381"
      ]
     },
     "metadata": {},
     "output_type": "display_data"
    },
    {
     "data": {
      "text/html": [
       "<style>\n",
       ".list-inline {list-style: none; margin:0; padding: 0}\n",
       ".list-inline>li {display: inline-block}\n",
       ".list-inline>li:not(:last-child)::after {content: \"\\00b7\"; padding: 0 .5ex}\n",
       "</style>\n",
       "<ol class=list-inline><li>3055</li><li>13</li></ol>\n"
      ],
      "text/latex": [
       "\\begin{enumerate*}\n",
       "\\item 3055\n",
       "\\item 13\n",
       "\\end{enumerate*}\n"
      ],
      "text/markdown": [
       "1. 3055\n",
       "2. 13\n",
       "\n",
       "\n"
      ],
      "text/plain": [
       "[1] 3055   13"
      ]
     },
     "metadata": {},
     "output_type": "display_data"
    },
    {
     "data": {
      "text/html": [
       "<table class=\"dataframe\">\n",
       "<caption>A data.frame: 6 × 13</caption>\n",
       "<thead>\n",
       "\t<tr><th></th><th scope=col>batch</th><th scope=col>gen_passage_id</th><th scope=col>seed_passage_id</th><th scope=col>novel</th><th scope=col>meaningful</th><th scope=col>pragmatic</th><th scope=col>annotator_id</th><th scope=col>gen_source</th><th scope=col>ppl</th><th scope=col>WQRM_score</th><th scope=col>ai_likelihood</th><th scope=col>annotator</th><th scope=col>ppl_log_std</th></tr>\n",
       "\t<tr><th></th><th scope=col>&lt;int&gt;</th><th scope=col>&lt;chr&gt;</th><th scope=col>&lt;fct&gt;</th><th scope=col>&lt;dbl&gt;</th><th scope=col>&lt;dbl&gt;</th><th scope=col>&lt;dbl&gt;</th><th scope=col>&lt;dbl&gt;</th><th scope=col>&lt;fct&gt;</th><th scope=col>&lt;dbl&gt;</th><th scope=col>&lt;dbl&gt;</th><th scope=col>&lt;dbl&gt;</th><th scope=col>&lt;fct&gt;</th><th scope=col>&lt;dbl[,1]&gt;</th></tr>\n",
       "</thead>\n",
       "<tbody>\n",
       "\t<tr><th scope=row>1</th><td>5</td><td>12838_human</td><td>12838</td><td>0</td><td> 1</td><td> 1</td><td> 1</td><td>human</td><td>  568.12262</td><td>8.5971</td><td>3.708733e-06</td><td>1 </td><td>-0.824248</td></tr>\n",
       "\t<tr><th scope=row>2</th><td>5</td><td>12838_human</td><td>12838</td><td>0</td><td> 1</td><td> 1</td><td> 4</td><td>human</td><td>  568.12262</td><td>8.5971</td><td>3.708733e-06</td><td>4 </td><td>-0.824248</td></tr>\n",
       "\t<tr><th scope=row>3</th><td>5</td><td>12838_human</td><td>12838</td><td>0</td><td> 1</td><td> 1</td><td>17</td><td>human</td><td>  568.12262</td><td>8.5971</td><td>3.708733e-06</td><td>17</td><td>-0.824248</td></tr>\n",
       "\t<tr><th scope=row>4</th><td>5</td><td>12838_human</td><td>12838</td><td>0</td><td>NA</td><td>NA</td><td>17</td><td>human</td><td>33698.17427</td><td>8.5971</td><td>3.708733e-06</td><td>17</td><td> 0.588854</td></tr>\n",
       "\t<tr><th scope=row>5</th><td>5</td><td>12838_human</td><td>12838</td><td>0</td><td>NA</td><td>NA</td><td> 1</td><td>human</td><td>33698.17427</td><td>8.5971</td><td>3.708733e-06</td><td>1 </td><td> 0.588854</td></tr>\n",
       "\t<tr><th scope=row>6</th><td>5</td><td>12838_human</td><td>12838</td><td>0</td><td>NA</td><td>NA</td><td>17</td><td>human</td><td>   49.44416</td><td>8.5971</td><td>3.708733e-06</td><td>17</td><td>-1.669263</td></tr>\n",
       "</tbody>\n",
       "</table>\n"
      ],
      "text/latex": [
       "A data.frame: 6 × 13\n",
       "\\begin{tabular}{r|lllllllllllll}\n",
       "  & batch & gen\\_passage\\_id & seed\\_passage\\_id & novel & meaningful & pragmatic & annotator\\_id & gen\\_source & ppl & WQRM\\_score & ai\\_likelihood & annotator & ppl\\_log\\_std\\\\\n",
       "  & <int> & <chr> & <fct> & <dbl> & <dbl> & <dbl> & <dbl> & <fct> & <dbl> & <dbl> & <dbl> & <fct> & <dbl{[},1{]}>\\\\\n",
       "\\hline\n",
       "\t1 & 5 & 12838\\_human & 12838 & 0 &  1 &  1 &  1 & human &   568.12262 & 8.5971 & 3.708733e-06 & 1  & -0.824248\\\\\n",
       "\t2 & 5 & 12838\\_human & 12838 & 0 &  1 &  1 &  4 & human &   568.12262 & 8.5971 & 3.708733e-06 & 4  & -0.824248\\\\\n",
       "\t3 & 5 & 12838\\_human & 12838 & 0 &  1 &  1 & 17 & human &   568.12262 & 8.5971 & 3.708733e-06 & 17 & -0.824248\\\\\n",
       "\t4 & 5 & 12838\\_human & 12838 & 0 & NA & NA & 17 & human & 33698.17427 & 8.5971 & 3.708733e-06 & 17 &  0.588854\\\\\n",
       "\t5 & 5 & 12838\\_human & 12838 & 0 & NA & NA &  1 & human & 33698.17427 & 8.5971 & 3.708733e-06 & 1  &  0.588854\\\\\n",
       "\t6 & 5 & 12838\\_human & 12838 & 0 & NA & NA & 17 & human &    49.44416 & 8.5971 & 3.708733e-06 & 17 & -1.669263\\\\\n",
       "\\end{tabular}\n"
      ],
      "text/markdown": [
       "\n",
       "A data.frame: 6 × 13\n",
       "\n",
       "| <!--/--> | batch &lt;int&gt; | gen_passage_id &lt;chr&gt; | seed_passage_id &lt;fct&gt; | novel &lt;dbl&gt; | meaningful &lt;dbl&gt; | pragmatic &lt;dbl&gt; | annotator_id &lt;dbl&gt; | gen_source &lt;fct&gt; | ppl &lt;dbl&gt; | WQRM_score &lt;dbl&gt; | ai_likelihood &lt;dbl&gt; | annotator &lt;fct&gt; | ppl_log_std &lt;dbl[,1]&gt; |\n",
       "|---|---|---|---|---|---|---|---|---|---|---|---|---|---|\n",
       "| 1 | 5 | 12838_human | 12838 | 0 |  1 |  1 |  1 | human |   568.12262 | 8.5971 | 3.708733e-06 | 1  | -0.824248 |\n",
       "| 2 | 5 | 12838_human | 12838 | 0 |  1 |  1 |  4 | human |   568.12262 | 8.5971 | 3.708733e-06 | 4  | -0.824248 |\n",
       "| 3 | 5 | 12838_human | 12838 | 0 |  1 |  1 | 17 | human |   568.12262 | 8.5971 | 3.708733e-06 | 17 | -0.824248 |\n",
       "| 4 | 5 | 12838_human | 12838 | 0 | NA | NA | 17 | human | 33698.17427 | 8.5971 | 3.708733e-06 | 17 |  0.588854 |\n",
       "| 5 | 5 | 12838_human | 12838 | 0 | NA | NA |  1 | human | 33698.17427 | 8.5971 | 3.708733e-06 | 1  |  0.588854 |\n",
       "| 6 | 5 | 12838_human | 12838 | 0 | NA | NA | 17 | human |    49.44416 | 8.5971 | 3.708733e-06 | 17 | -1.669263 |\n",
       "\n"
      ],
      "text/plain": [
       "  batch gen_passage_id seed_passage_id novel meaningful pragmatic annotator_id\n",
       "1 5     12838_human    12838           0      1          1         1          \n",
       "2 5     12838_human    12838           0      1          1         4          \n",
       "3 5     12838_human    12838           0      1          1        17          \n",
       "4 5     12838_human    12838           0     NA         NA        17          \n",
       "5 5     12838_human    12838           0     NA         NA         1          \n",
       "6 5     12838_human    12838           0     NA         NA        17          \n",
       "  gen_source ppl         WQRM_score ai_likelihood annotator ppl_log_std\n",
       "1 human        568.12262 8.5971     3.708733e-06  1         -0.824248  \n",
       "2 human        568.12262 8.5971     3.708733e-06  4         -0.824248  \n",
       "3 human        568.12262 8.5971     3.708733e-06  17        -0.824248  \n",
       "4 human      33698.17427 8.5971     3.708733e-06  17         0.588854  \n",
       "5 human      33698.17427 8.5971     3.708733e-06  1          0.588854  \n",
       "6 human         49.44416 8.5971     3.708733e-06  17        -1.669263  "
      ]
     },
     "metadata": {},
     "output_type": "display_data"
    }
   ],
   "source": [
    "front_prag_data <- read.csv(\"../data/for_linear_models/prehlt_and_hlt.csv\")\n",
    "# to reproduce exact paper results:\n",
    "# front_prag_data <- read.csv(\"../data/for_linear_models/prehlt_only.csv\")\n",
    "\n",
    "table(front_prag_data$pragmatic, front_prag_data$gen_source)\n",
    "# front_prag_data$pragmatic <- front_prag_data$pragmatic * front_prag_data$meaningful\n",
    "# front_prag_data <- front_prag_data[front_prag_data$meaningful != 0, ]\n",
    "table(front_prag_data$pragmatic, front_prag_data$gen_source)\n",
    "\n",
    "# batch 11 seed_passage_id\n",
    "batch_11_ids <- front_prag_data %>%\n",
    "  filter(batch == 11) %>%\n",
    "  pull(seed_passage_id) %>%\n",
    "  unique()\n",
    "# convert ids to \"ID_human\" format\n",
    "human_batch11_ids <- paste0(sprintf(\"%02d\", \n",
    "                      as.numeric(gsub(\"seed_passage_id_\", \"\",\n",
    "                       batch_11_ids))), \"_human\")\n",
    "batch_11_gen_passage_ids <- front_prag_data %>%\n",
    "  filter(batch == 11) %>%\n",
    "  pull(gen_passage_id) %>%\n",
    "  unique()\n",
    "\n",
    "batch_11_annotators <- front_prag_data %>%\n",
    "  filter(batch == 11) %>%\n",
    "  pull(annotator_id) %>%\n",
    "  unique()\n",
    "\n",
    "# compare only gpt5, claude, and human\n",
    "front_prag_data <- front_prag_data %>%\n",
    "     filter( gen_passage_id %in% human_batch11_ids | gen_passage_id %in% batch_11_gen_passage_ids)\n",
    "\n",
    "table(front_prag_data$gen_passage_id)\n",
    "table(front_prag_data$meaningful, front_prag_data$pragmatic)\n",
    "table(front_prag_data$gen_source, front_prag_data$pragmatic)\n",
    "table(front_prag_data$gen_source, front_prag_data$meaningful)\n",
    "\n",
    "# table(front_prag_data$gen_passage_id)\n",
    "front_prag_data$seed_passage_id <- as.factor(front_prag_data$seed_passage_id)\n",
    "front_prag_data$annotator <- as.factor(front_prag_data$annotator_id)\n",
    "front_prag_data$gen_source <- as.factor(front_prag_data$gen_source)\n",
    "front_prag_data$gen_source <- relevel(front_prag_data$gen_source, ref = \"human\")\n",
    "\n",
    "front_prag_data$ppl_log_std <- scale(log(front_prag_data$ppl))\n",
    "dim(front_prag_data)\n",
    "head(front_prag_data)"
   ]
  },
  {
   "cell_type": "code",
   "execution_count": 178,
   "id": "959f6b34",
   "metadata": {
    "vscode": {
     "languageId": "r"
    }
   },
   "outputs": [
    {
     "data": {
      "text/plain": [
       "    \n",
       "       5   7  10  11\n",
       "  1   47   0   0   0\n",
       "  2    0 167   0   0\n",
       "  3    0   0   0 571\n",
       "  4   47   0   0   0\n",
       "  8    0   0   0 574\n",
       "  11   0   0  47   0\n",
       "  12   0   0  47   0\n",
       "  15   0   0   0 572\n",
       "  17  47   0   0   0\n",
       "  21   0   0  47 574\n",
       "  22   0 158   0   0\n",
       "  24   0 157   0   0"
      ]
     },
     "metadata": {},
     "output_type": "display_data"
    }
   ],
   "source": [
    "# table(front_prag_data$annotator, front_prag_data$seed_passage_id )\n",
    "table(front_prag_data$annotator, front_prag_data$batch )"
   ]
  },
  {
   "cell_type": "markdown",
   "id": "5225ffe8",
   "metadata": {},
   "source": [
    "## prag vs ppl"
   ]
  },
  {
   "cell_type": "code",
   "execution_count": 179,
   "id": "7989258b",
   "metadata": {
    "vscode": {
     "languageId": "r"
    }
   },
   "outputs": [
    {
     "data": {
      "text/plain": [
       "Generalized linear mixed model fit by maximum likelihood (Laplace\n",
       "  Approximation) [glmerMod]\n",
       " Family: binomial  ( logit )\n",
       "Formula: pragmatic ~ ppl_log_std * gen_source + (1 | annotator) + (1 |  \n",
       "    seed_passage_id)\n",
       "   Data: front_prag_data\n",
       "Control: glmerControl(optimizer = \"bobyqa\")\n",
       "\n",
       "      AIC       BIC    logLik -2*log(L)  df.resid \n",
       "    614.0     656.4    -299.0     598.0      1473 \n",
       "\n",
       "Scaled residuals: \n",
       "     Min       1Q   Median       3Q      Max \n",
       "-16.3698   0.0926   0.1591   0.2840   0.6494 \n",
       "\n",
       "Random effects:\n",
       " Groups          Name        Variance Std.Dev.\n",
       " annotator       (Intercept) 1.62240  1.2737  \n",
       " seed_passage_id (Intercept) 0.09223  0.3037  \n",
       "Number of obs: 1481, groups:  annotator, 12; seed_passage_id, 5\n",
       "\n",
       "Fixed effects:\n",
       "                             Estimate Std. Error z value Pr(>|z|)    \n",
       "(Intercept)                    2.6300     0.5249   5.010 5.44e-07 ***\n",
       "ppl_log_std                    0.1593     0.2285   0.697   0.4857    \n",
       "gen_sourceclaude               1.6601     0.8153   2.036   0.0417 *  \n",
       "gen_sourcegpt5                 0.1958     0.7740   0.253   0.8003    \n",
       "ppl_log_std:gen_sourceclaude  -0.4304     0.4218  -1.020   0.3076    \n",
       "ppl_log_std:gen_sourcegpt5    -0.3692     0.3118  -1.184   0.2364    \n",
       "---\n",
       "Signif. codes:  0 ‘***’ 0.001 ‘**’ 0.01 ‘*’ 0.05 ‘.’ 0.1 ‘ ’ 1\n",
       "\n",
       "Correlation of Fixed Effects:\n",
       "            (Intr) ppl_l_ gn_src gn_sr5 pp__:_\n",
       "ppl_log_std -0.081                            \n",
       "gen_sorccld -0.513  0.040                     \n",
       "gen_srcgpt5 -0.542  0.042  0.875              \n",
       "ppl_lg_st:_  0.044 -0.543 -0.195 -0.024       \n",
       "ppl_lg_s:_5  0.060 -0.736 -0.035 -0.161  0.401"
      ]
     },
     "metadata": {},
     "output_type": "display_data"
    },
    {
     "name": "stderr",
     "output_type": "stream",
     "text": [
      "Warning message:\n",
      "“the null model is only correct if all the variables it uses are identical \n",
      "to those used in fitting the original model.”\n"
     ]
    },
    {
     "name": "stdout",
     "output_type": "stream",
     "text": [
      "                   R2m       R2c\n",
      "theoretical 0.10266907 0.4101107\n",
      "delta       0.04134419 0.1651490\n",
      "Linear hypothesis test\n",
      "\n",
      "Hypothesis:\n",
      "ppl_log_std = 0\n",
      "\n",
      "Model 1: restricted model\n",
      "Model 2: pragmatic ~ ppl_log_std * gen_source + (1 | annotator) + (1 | \n",
      "    seed_passage_id)\n",
      "\n",
      "  Df  Chisq Pr(>Chisq)\n",
      "1                     \n",
      "2  1 0.4861     0.4857\n",
      "Linear hypothesis test\n",
      "\n",
      "Hypothesis:\n",
      "ppl_log_std  + ppl_log_std:gen_sourcegpt5 = 0\n",
      "\n",
      "Model 1: restricted model\n",
      "Model 2: pragmatic ~ ppl_log_std * gen_source + (1 | annotator) + (1 | \n",
      "    seed_passage_id)\n",
      "\n",
      "  Df  Chisq Pr(>Chisq)\n",
      "1                     \n",
      "2  1 0.9879     0.3203\n",
      "Linear hypothesis test\n",
      "\n",
      "Hypothesis:\n",
      "ppl_log_std  + ppl_log_std:gen_sourceclaude = 0\n",
      "\n",
      "Model 1: restricted model\n",
      "Model 2: pragmatic ~ ppl_log_std * gen_source + (1 | annotator) + (1 | \n",
      "    seed_passage_id)\n",
      "\n",
      "  Df  Chisq Pr(>Chisq)\n",
      "1                     \n",
      "2  1 0.5855     0.4442\n"
     ]
    }
   ],
   "source": [
    "m_front_prag_ppl = glmer(pragmatic ~ ppl_log_std * gen_source + (1 | annotator) + (1 | seed_passage_id), \n",
    "               data = front_prag_data, family = binomial(link = \"logit\"),\n",
    "               glmerControl(optimizer = \"bobyqa\"))\n",
    "\n",
    "summary(m_front_prag_ppl)\n",
    "print(r.squaredGLMM(m_front_prag_ppl))\n",
    "print(linearHypothesis(m_front_prag_ppl, \"ppl_log_std = 0\"))\n",
    "print(linearHypothesis(m_front_prag_ppl, c(\"ppl_log_std + ppl_log_std:gen_sourcegpt5 = 0\")))\n",
    "print(linearHypothesis(m_front_prag_ppl, c(\"ppl_log_std + ppl_log_std:gen_sourceclaude = 0\")))"
   ]
  },
  {
   "cell_type": "code",
   "execution_count": 180,
   "id": "08ff4a23",
   "metadata": {
    "vscode": {
     "languageId": "r"
    }
   },
   "outputs": [
    {
     "name": "stderr",
     "output_type": "stream",
     "text": [
      "The table was written to the file 'latex/prag_ppl_front.tex'.\n",
      "\n",
      "\n"
     ]
    }
   ],
   "source": [
    "formula_name <- \"\\\\shortstack[l]{pragmatic \\\\textasciitilde{} ppl\\\\_log\\\\_std * gen\\\\_source  \\\\\\\\ \n",
    "+ (1 \\\\textbar{} annotator) + \\\\\\\\ \n",
    "(1 \\\\textbar{} seed\\\\_passage\\\\_id)}\"\n",
    "# pragmatic ~ ppl_log_std * gen_source + (1 | annotator) + (1 | seed_passage_id)\n",
    "texreg(m_front_prag_ppl,\n",
    "       caption = \"Mixed-effects logistic regression predicting creativity from standardized PPL (comparing humans and frontier models)\",\n",
    "       custom.model.names = formula_name,\n",
    "       label = \"tab:glmer_ppl_prag_src_front\",\n",
    "       float.pos = \"htbp\",\n",
    "       booktabs = TRUE,\n",
    "       single.row = TRUE,\n",
    "       ci.force = TRUE,     # include confidence intervals\n",
    "       ci.level = 0.95,\n",
    "       file = \"latex/prag_ppl_front.tex\")  # writes LaTeX table"
   ]
  },
  {
   "cell_type": "code",
   "execution_count": null,
   "id": "61046402",
   "metadata": {
    "vscode": {
     "languageId": "r"
    }
   },
   "outputs": [],
   "source": []
  }
 ],
 "metadata": {
  "kernelspec": {
   "display_name": "R",
   "language": "R",
   "name": "ir"
  },
  "language_info": {
   "codemirror_mode": "r",
   "file_extension": ".r",
   "mimetype": "text/x-r-source",
   "name": "R",
   "pygments_lexer": "r",
   "version": "4.3.1"
  }
 },
 "nbformat": 4,
 "nbformat_minor": 5
}
